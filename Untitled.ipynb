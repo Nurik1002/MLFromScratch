{
 "cells": [
  {
   "cell_type": "code",
   "execution_count": 59,
   "id": "acb1c94b-d5e8-4d4d-975b-e7c6084e06a1",
   "metadata": {
    "tags": []
   },
   "outputs": [],
   "source": [
    "import pandas as pd\n",
    "import numpy as np\n",
    "from sklearn.preprocessing import OrdinalEncoder"
   ]
  },
  {
   "cell_type": "code",
   "execution_count": 60,
   "id": "2e958171-d513-49a6-bb87-eca47ef5d030",
   "metadata": {
    "tags": []
   },
   "outputs": [],
   "source": [
    "data = pd.read_csv(\"Datasets/DTree.csv\")"
   ]
  },
  {
   "cell_type": "code",
   "execution_count": 61,
   "id": "533adfe5-2f13-41bb-9fac-20f795789bf6",
   "metadata": {
    "tags": []
   },
   "outputs": [
    {
     "data": {
      "text/html": [
       "<div>\n",
       "<style scoped>\n",
       "    .dataframe tbody tr th:only-of-type {\n",
       "        vertical-align: middle;\n",
       "    }\n",
       "\n",
       "    .dataframe tbody tr th {\n",
       "        vertical-align: top;\n",
       "    }\n",
       "\n",
       "    .dataframe thead th {\n",
       "        text-align: right;\n",
       "    }\n",
       "</style>\n",
       "<table border=\"1\" class=\"dataframe\">\n",
       "  <thead>\n",
       "    <tr style=\"text-align: right;\">\n",
       "      <th></th>\n",
       "      <th>Ob-Havo</th>\n",
       "      <th>Temp</th>\n",
       "      <th>Namlik</th>\n",
       "      <th>Shamol</th>\n",
       "      <th>Oyinchilar</th>\n",
       "    </tr>\n",
       "  </thead>\n",
       "  <tbody>\n",
       "    <tr>\n",
       "      <th>0</th>\n",
       "      <td>Yomg'ir</td>\n",
       "      <td>Issiq</td>\n",
       "      <td>Yuqori</td>\n",
       "      <td>False</td>\n",
       "      <td>25</td>\n",
       "    </tr>\n",
       "    <tr>\n",
       "      <th>1</th>\n",
       "      <td>Yomg'ir</td>\n",
       "      <td>Issiq</td>\n",
       "      <td>Yuqori</td>\n",
       "      <td>True</td>\n",
       "      <td>30</td>\n",
       "    </tr>\n",
       "    <tr>\n",
       "      <th>2</th>\n",
       "      <td>Bulutli</td>\n",
       "      <td>Issiq</td>\n",
       "      <td>Yuqori</td>\n",
       "      <td>False</td>\n",
       "      <td>46</td>\n",
       "    </tr>\n",
       "    <tr>\n",
       "      <th>3</th>\n",
       "      <td>Quyoshli</td>\n",
       "      <td>Yaxshi</td>\n",
       "      <td>Yuqori</td>\n",
       "      <td>False</td>\n",
       "      <td>45</td>\n",
       "    </tr>\n",
       "    <tr>\n",
       "      <th>4</th>\n",
       "      <td>Quyoshli</td>\n",
       "      <td>Salqin</td>\n",
       "      <td>Normal</td>\n",
       "      <td>False</td>\n",
       "      <td>52</td>\n",
       "    </tr>\n",
       "    <tr>\n",
       "      <th>5</th>\n",
       "      <td>Quyoshli</td>\n",
       "      <td>Salqin</td>\n",
       "      <td>Normal</td>\n",
       "      <td>True</td>\n",
       "      <td>23</td>\n",
       "    </tr>\n",
       "    <tr>\n",
       "      <th>6</th>\n",
       "      <td>Bulutli</td>\n",
       "      <td>Salqin</td>\n",
       "      <td>Normal</td>\n",
       "      <td>True</td>\n",
       "      <td>43</td>\n",
       "    </tr>\n",
       "    <tr>\n",
       "      <th>7</th>\n",
       "      <td>Yomg'ir</td>\n",
       "      <td>Yaxshi</td>\n",
       "      <td>Yuqori</td>\n",
       "      <td>False</td>\n",
       "      <td>35</td>\n",
       "    </tr>\n",
       "    <tr>\n",
       "      <th>8</th>\n",
       "      <td>Yomg'ir</td>\n",
       "      <td>Salqin</td>\n",
       "      <td>Normal</td>\n",
       "      <td>False</td>\n",
       "      <td>38</td>\n",
       "    </tr>\n",
       "    <tr>\n",
       "      <th>9</th>\n",
       "      <td>Quyoshli</td>\n",
       "      <td>Yaxshi</td>\n",
       "      <td>Normal</td>\n",
       "      <td>False</td>\n",
       "      <td>46</td>\n",
       "    </tr>\n",
       "    <tr>\n",
       "      <th>10</th>\n",
       "      <td>Yomg'ir</td>\n",
       "      <td>Yaxshi</td>\n",
       "      <td>Normal</td>\n",
       "      <td>True</td>\n",
       "      <td>48</td>\n",
       "    </tr>\n",
       "    <tr>\n",
       "      <th>11</th>\n",
       "      <td>Bulutli</td>\n",
       "      <td>Yaxshi</td>\n",
       "      <td>Yuqori</td>\n",
       "      <td>True</td>\n",
       "      <td>52</td>\n",
       "    </tr>\n",
       "    <tr>\n",
       "      <th>12</th>\n",
       "      <td>Bulutli</td>\n",
       "      <td>Issiq</td>\n",
       "      <td>Normal</td>\n",
       "      <td>False</td>\n",
       "      <td>44</td>\n",
       "    </tr>\n",
       "    <tr>\n",
       "      <th>13</th>\n",
       "      <td>Quyoshli</td>\n",
       "      <td>Yaxshi</td>\n",
       "      <td>Yuqori</td>\n",
       "      <td>True</td>\n",
       "      <td>30</td>\n",
       "    </tr>\n",
       "  </tbody>\n",
       "</table>\n",
       "</div>"
      ],
      "text/plain": [
       "     Ob-Havo    Temp  Namlik  Shamol  Oyinchilar\n",
       "0    Yomg'ir   Issiq  Yuqori   False          25\n",
       "1    Yomg'ir   Issiq  Yuqori    True          30\n",
       "2    Bulutli   Issiq  Yuqori   False          46\n",
       "3   Quyoshli  Yaxshi  Yuqori   False          45\n",
       "4   Quyoshli  Salqin  Normal   False          52\n",
       "5   Quyoshli  Salqin  Normal    True          23\n",
       "6    Bulutli  Salqin  Normal    True          43\n",
       "7    Yomg'ir  Yaxshi  Yuqori   False          35\n",
       "8    Yomg'ir  Salqin  Normal   False          38\n",
       "9   Quyoshli  Yaxshi  Normal   False          46\n",
       "10   Yomg'ir  Yaxshi  Normal    True          48\n",
       "11   Bulutli  Yaxshi  Yuqori    True          52\n",
       "12   Bulutli   Issiq  Normal   False          44\n",
       "13  Quyoshli  Yaxshi  Yuqori    True          30"
      ]
     },
     "execution_count": 61,
     "metadata": {},
     "output_type": "execute_result"
    }
   ],
   "source": [
    "data\n"
   ]
  },
  {
   "cell_type": "code",
   "execution_count": 62,
   "id": "d049ba28-9a53-4cd6-84c5-6e9a561fdffd",
   "metadata": {
    "tags": []
   },
   "outputs": [],
   "source": [
    "X = OrdinalEncoder().fit_transform(data.drop(\"Oyinchilar\", axis=1))"
   ]
  },
  {
   "cell_type": "code",
   "execution_count": 63,
   "id": "9c5206c1-ff8f-4f68-adc1-9b3510a703ff",
   "metadata": {
    "tags": []
   },
   "outputs": [
    {
     "data": {
      "text/plain": [
       "array([[2., 0., 1., 0.],\n",
       "       [2., 0., 1., 1.],\n",
       "       [0., 0., 1., 0.],\n",
       "       [1., 2., 1., 0.],\n",
       "       [1., 1., 0., 0.],\n",
       "       [1., 1., 0., 1.],\n",
       "       [0., 1., 0., 1.],\n",
       "       [2., 2., 1., 0.],\n",
       "       [2., 1., 0., 0.],\n",
       "       [1., 2., 0., 0.],\n",
       "       [2., 2., 0., 1.],\n",
       "       [0., 2., 1., 1.],\n",
       "       [0., 0., 0., 0.],\n",
       "       [1., 2., 1., 1.]])"
      ]
     },
     "execution_count": 63,
     "metadata": {},
     "output_type": "execute_result"
    }
   ],
   "source": [
    "X"
   ]
  },
  {
   "cell_type": "code",
   "execution_count": 64,
   "id": "fcac953c-85a2-4b06-992e-dd9380ad8d28",
   "metadata": {
    "tags": []
   },
   "outputs": [],
   "source": [
    "y = data['Oyinchilar'].values"
   ]
  },
  {
   "cell_type": "code",
   "execution_count": 65,
   "id": "8171f93f-e45a-40a3-b94b-3957393de211",
   "metadata": {
    "tags": []
   },
   "outputs": [
    {
     "data": {
      "text/plain": [
       "array([25, 30, 46, 45, 52, 23, 43, 35, 38, 46, 48, 52, 44, 30])"
      ]
     },
     "execution_count": 65,
     "metadata": {},
     "output_type": "execute_result"
    }
   ],
   "source": [
    "y"
   ]
  },
  {
   "cell_type": "code",
   "execution_count": 66,
   "id": "94b52506-c730-4e02-80fa-9d7261d9648f",
   "metadata": {
    "tags": []
   },
   "outputs": [],
   "source": [
    "def get_var(X):\n",
    "    x_mean = X.mean()\n",
    "    return np.sum(np.square((X- x_mean)))/len(X)\n",
    "\n",
    "def get_covar(X, y):\n",
    "    x_mean = X.mean()\n",
    "    y_mean = y.mean()\n",
    "    return np.sum((y-y_mean)@(X-x_mean))/len(y)"
   ]
  },
  {
   "cell_type": "code",
   "execution_count": 67,
   "id": "71f61e18-4048-47b7-8276-a8e0bacb0a90",
   "metadata": {
    "tags": []
   },
   "outputs": [
    {
     "data": {
      "text/plain": [
       "3.2352941176470593"
      ]
     },
     "execution_count": 67,
     "metadata": {},
     "output_type": "execute_result"
    }
   ],
   "source": [
    "get_covar(X[:,1], y) / get_var(X[:,1])"
   ]
  },
  {
   "cell_type": "code",
   "execution_count": 68,
   "id": "4be458e5-6a98-453f-b30e-609854b23627",
   "metadata": {
    "tags": []
   },
   "outputs": [],
   "source": [
    "from sklearn.linear_model import LinearRegression"
   ]
  },
  {
   "cell_type": "code",
   "execution_count": 69,
   "id": "dc5c8f21-0e2a-4562-8649-bb117dbed525",
   "metadata": {
    "tags": []
   },
   "outputs": [],
   "source": [
    "lr = LinearRegression()"
   ]
  },
  {
   "cell_type": "code",
   "execution_count": 70,
   "id": "83e6fd67-158a-4e8b-8c64-18742145f31a",
   "metadata": {
    "tags": []
   },
   "outputs": [
    {
     "data": {
      "text/html": [
       "<style>#sk-container-id-3 {color: black;background-color: white;}#sk-container-id-3 pre{padding: 0;}#sk-container-id-3 div.sk-toggleable {background-color: white;}#sk-container-id-3 label.sk-toggleable__label {cursor: pointer;display: block;width: 100%;margin-bottom: 0;padding: 0.3em;box-sizing: border-box;text-align: center;}#sk-container-id-3 label.sk-toggleable__label-arrow:before {content: \"▸\";float: left;margin-right: 0.25em;color: #696969;}#sk-container-id-3 label.sk-toggleable__label-arrow:hover:before {color: black;}#sk-container-id-3 div.sk-estimator:hover label.sk-toggleable__label-arrow:before {color: black;}#sk-container-id-3 div.sk-toggleable__content {max-height: 0;max-width: 0;overflow: hidden;text-align: left;background-color: #f0f8ff;}#sk-container-id-3 div.sk-toggleable__content pre {margin: 0.2em;color: black;border-radius: 0.25em;background-color: #f0f8ff;}#sk-container-id-3 input.sk-toggleable__control:checked~div.sk-toggleable__content {max-height: 200px;max-width: 100%;overflow: auto;}#sk-container-id-3 input.sk-toggleable__control:checked~label.sk-toggleable__label-arrow:before {content: \"▾\";}#sk-container-id-3 div.sk-estimator input.sk-toggleable__control:checked~label.sk-toggleable__label {background-color: #d4ebff;}#sk-container-id-3 div.sk-label input.sk-toggleable__control:checked~label.sk-toggleable__label {background-color: #d4ebff;}#sk-container-id-3 input.sk-hidden--visually {border: 0;clip: rect(1px 1px 1px 1px);clip: rect(1px, 1px, 1px, 1px);height: 1px;margin: -1px;overflow: hidden;padding: 0;position: absolute;width: 1px;}#sk-container-id-3 div.sk-estimator {font-family: monospace;background-color: #f0f8ff;border: 1px dotted black;border-radius: 0.25em;box-sizing: border-box;margin-bottom: 0.5em;}#sk-container-id-3 div.sk-estimator:hover {background-color: #d4ebff;}#sk-container-id-3 div.sk-parallel-item::after {content: \"\";width: 100%;border-bottom: 1px solid gray;flex-grow: 1;}#sk-container-id-3 div.sk-label:hover label.sk-toggleable__label {background-color: #d4ebff;}#sk-container-id-3 div.sk-serial::before {content: \"\";position: absolute;border-left: 1px solid gray;box-sizing: border-box;top: 0;bottom: 0;left: 50%;z-index: 0;}#sk-container-id-3 div.sk-serial {display: flex;flex-direction: column;align-items: center;background-color: white;padding-right: 0.2em;padding-left: 0.2em;position: relative;}#sk-container-id-3 div.sk-item {position: relative;z-index: 1;}#sk-container-id-3 div.sk-parallel {display: flex;align-items: stretch;justify-content: center;background-color: white;position: relative;}#sk-container-id-3 div.sk-item::before, #sk-container-id-3 div.sk-parallel-item::before {content: \"\";position: absolute;border-left: 1px solid gray;box-sizing: border-box;top: 0;bottom: 0;left: 50%;z-index: -1;}#sk-container-id-3 div.sk-parallel-item {display: flex;flex-direction: column;z-index: 1;position: relative;background-color: white;}#sk-container-id-3 div.sk-parallel-item:first-child::after {align-self: flex-end;width: 50%;}#sk-container-id-3 div.sk-parallel-item:last-child::after {align-self: flex-start;width: 50%;}#sk-container-id-3 div.sk-parallel-item:only-child::after {width: 0;}#sk-container-id-3 div.sk-dashed-wrapped {border: 1px dashed gray;margin: 0 0.4em 0.5em 0.4em;box-sizing: border-box;padding-bottom: 0.4em;background-color: white;}#sk-container-id-3 div.sk-label label {font-family: monospace;font-weight: bold;display: inline-block;line-height: 1.2em;}#sk-container-id-3 div.sk-label-container {text-align: center;}#sk-container-id-3 div.sk-container {/* jupyter's `normalize.less` sets `[hidden] { display: none; }` but bootstrap.min.css set `[hidden] { display: none !important; }` so we also need the `!important` here to be able to override the default hidden behavior on the sphinx rendered scikit-learn.org. See: https://github.com/scikit-learn/scikit-learn/issues/21755 */display: inline-block !important;position: relative;}#sk-container-id-3 div.sk-text-repr-fallback {display: none;}</style><div id=\"sk-container-id-3\" class=\"sk-top-container\"><div class=\"sk-text-repr-fallback\"><pre>LinearRegression()</pre><b>In a Jupyter environment, please rerun this cell to show the HTML representation or trust the notebook. <br />On GitHub, the HTML representation is unable to render, please try loading this page with nbviewer.org.</b></div><div class=\"sk-container\" hidden><div class=\"sk-item\"><div class=\"sk-estimator sk-toggleable\"><input class=\"sk-toggleable__control sk-hidden--visually\" id=\"sk-estimator-id-3\" type=\"checkbox\" checked><label for=\"sk-estimator-id-3\" class=\"sk-toggleable__label sk-toggleable__label-arrow\">LinearRegression</label><div class=\"sk-toggleable__content\"><pre>LinearRegression()</pre></div></div></div></div></div>"
      ],
      "text/plain": [
       "LinearRegression()"
      ]
     },
     "execution_count": 70,
     "metadata": {},
     "output_type": "execute_result"
    }
   ],
   "source": [
    "lr.fit(X, y)"
   ]
  },
  {
   "cell_type": "code",
   "execution_count": 71,
   "id": "0fc13e25-f524-404b-9c3e-9e321197cfa6",
   "metadata": {
    "tags": []
   },
   "outputs": [
    {
     "data": {
      "text/plain": [
       "array([-5.97741273,  4.46186565, -3.57465532, -5.94279847])"
      ]
     },
     "execution_count": 71,
     "metadata": {},
     "output_type": "execute_result"
    }
   ],
   "source": [
    "lr.coef_"
   ]
  },
  {
   "cell_type": "code",
   "execution_count": 72,
   "id": "bf98618f-70ea-4e30-ba94-e504e8b933e3",
   "metadata": {
    "tags": []
   },
   "outputs": [
    {
     "data": {
      "text/plain": [
       "array([[ 0.68681319, -3.75274725],\n",
       "       [-3.75274725, 93.56593407]])"
      ]
     },
     "execution_count": 72,
     "metadata": {},
     "output_type": "execute_result"
    }
   ],
   "source": [
    "np.cov(X[:,0], y, rowvar=True)"
   ]
  },
  {
   "cell_type": "code",
   "execution_count": 73,
   "id": "78425068-9a0f-4a39-84ba-fb5f07ebd371",
   "metadata": {
    "tags": []
   },
   "outputs": [],
   "source": [
    "y = y.reshape(-1)"
   ]
  },
  {
   "cell_type": "code",
   "execution_count": 74,
   "id": "f1b195f6-8bab-4be9-a8eb-bf6740ec0cd2",
   "metadata": {
    "tags": []
   },
   "outputs": [
    {
     "data": {
      "text/plain": [
       "array([2., 2., 0., 1., 1., 1., 0., 2., 2., 1., 2., 0., 0., 1.])"
      ]
     },
     "execution_count": 74,
     "metadata": {},
     "output_type": "execute_result"
    }
   ],
   "source": [
    "X[:, 0]"
   ]
  },
  {
   "cell_type": "code",
   "execution_count": 75,
   "id": "df00b272-61d5-483b-9248-c6dafc97dbe7",
   "metadata": {
    "tags": []
   },
   "outputs": [],
   "source": [
    "def covariance_matrix(data):\n",
    "    \"\"\"\n",
    "    Computes the covariance matrix of the given data matrix.\n",
    "\n",
    "    Args:\n",
    "        data (numpy.ndarray): The data matrix. Each row represents a sample, and each column represents a variable.\n",
    "\n",
    "    Returns:\n",
    "        numpy.ndarray: The covariance matrix.\n",
    "    \"\"\"\n",
    "    # Compute the mean of each variable\n",
    "    means = np.mean(data, axis=0)\n",
    "\n",
    "    # Subtract the means from the data\n",
    "    centered_data = data - means\n",
    "\n",
    "    # Compute the covariance matrix\n",
    "    cov_matrix = np.dot(centered_data.T, centered_data) / (data.shape[0] - 1)\n",
    "\n",
    "    return cov_matrix"
   ]
  },
  {
   "cell_type": "code",
   "execution_count": 76,
   "id": "80b6f115-fd24-49a2-8fd2-e6a1d44a13c9",
   "metadata": {
    "tags": []
   },
   "outputs": [
    {
     "data": {
      "text/plain": [
       "array([[ 6.86813187e-01,  6.59340659e-02,  3.84615385e-02,\n",
       "        -3.29670330e-02],\n",
       "       [ 6.59340659e-02,  7.47252747e-01,  0.00000000e+00,\n",
       "         8.79120879e-02],\n",
       "       [ 3.84615385e-02,  0.00000000e+00,  2.69230769e-01,\n",
       "         8.54017711e-18],\n",
       "       [-3.29670330e-02,  8.79120879e-02,  8.54017711e-18,\n",
       "         2.63736264e-01]])"
      ]
     },
     "execution_count": 76,
     "metadata": {},
     "output_type": "execute_result"
    }
   ],
   "source": [
    "covariance_matrix(X)"
   ]
  },
  {
   "cell_type": "code",
   "execution_count": 77,
   "id": "28c1d225-14d7-4249-bebb-1bf57e7c0df0",
   "metadata": {
    "tags": []
   },
   "outputs": [],
   "source": [
    "def variance(data):\n",
    "    \"\"\"\n",
    "    Computes the variance of a random variable given a data array.\n",
    "\n",
    "    Args:\n",
    "        data (numpy.ndarray): The data array.\n",
    "\n",
    "    Returns:\n",
    "        float: The variance.\n",
    "    \"\"\"\n",
    "    mean = np.mean(data)\n",
    "    deviations = data - mean\n",
    "    variance = np.sum(deviations ** 2) \n",
    "    return variance\n",
    "\n",
    "\n",
    "def covariance(x, y):\n",
    "    \"\"\"\n",
    "    Computes the covariance between two random variables given their data arrays.\n",
    "\n",
    "    Args:\n",
    "        x (numpy.ndarray): The data array of the first variable.\n",
    "        y (numpy.ndarray): The data array of the second variable.\n",
    "\n",
    "    Returns:\n",
    "        float: The covariance.\n",
    "    \"\"\"\n",
    "    mean_x = np.mean(x)\n",
    "    mean_y = np.mean(y)\n",
    "    deviations_x = x - mean_x\n",
    "    deviations_y = y - mean_y\n",
    "    covariance = np.sum(deviations_x * deviations_y) \n",
    "    return covariance\n"
   ]
  },
  {
   "cell_type": "code",
   "execution_count": 78,
   "id": "97e02eb0-0cf9-454f-b082-f009fbcdf06e",
   "metadata": {
    "tags": []
   },
   "outputs": [
    {
     "data": {
      "text/plain": [
       "-48.78571428571429"
      ]
     },
     "execution_count": 78,
     "metadata": {},
     "output_type": "execute_result"
    }
   ],
   "source": [
    "covariance(X[:, 0], y) "
   ]
  },
  {
   "cell_type": "code",
   "execution_count": 86,
   "id": "ea74ec89-e658-4262-ae1f-c0df1feb455e",
   "metadata": {
    "tags": []
   },
   "outputs": [
    {
     "data": {
      "text/plain": [
       "array([[  1.07692308,  -5.88430769],\n",
       "       [ -5.88430769, 146.71138462]])"
      ]
     },
     "execution_count": 86,
     "metadata": {},
     "output_type": "execute_result"
    }
   ],
   "source": [
    "np.cov(X[:,0], y)/np.var(X[:,0])"
   ]
  },
  {
   "cell_type": "code",
   "execution_count": 83,
   "id": "40599e68-e240-4d8d-b698-b06961e5b221",
   "metadata": {
    "tags": []
   },
   "outputs": [
    {
     "data": {
      "text/plain": [
       "array([2., 2., 0., 1., 1., 1., 0., 2., 2., 1., 2., 0., 0., 1.])"
      ]
     },
     "execution_count": 83,
     "metadata": {},
     "output_type": "execute_result"
    }
   ],
   "source": [
    "X[:,0]"
   ]
  },
  {
   "cell_type": "code",
   "execution_count": 87,
   "id": "05768611-1903-4845-9c85-34cf77918d60",
   "metadata": {
    "tags": []
   },
   "outputs": [],
   "source": []
  },
  {
   "cell_type": "code",
   "execution_count": 88,
   "id": "ca0038bc-4e7d-4729-8b98-d45cfd0effc7",
   "metadata": {
    "tags": []
   },
   "outputs": [
    {
     "ename": "TypeError",
     "evalue": "'module' object is not callable",
     "output_type": "error",
     "traceback": [
      "\u001b[0;31m---------------------------------------------------------------------------\u001b[0m",
      "\u001b[0;31mTypeError\u001b[0m                                 Traceback (most recent call last)",
      "Cell \u001b[0;32mIn[88], line 1\u001b[0m\n\u001b[0;32m----> 1\u001b[0m \u001b[43mcov\u001b[49m\u001b[43m(\u001b[49m\u001b[43mX\u001b[49m\u001b[43m[\u001b[49m\u001b[43m:\u001b[49m\u001b[43m,\u001b[49m\u001b[38;5;241;43m0\u001b[39;49m\u001b[43m]\u001b[49m\u001b[43m,\u001b[49m\u001b[43my\u001b[49m\u001b[43m)\u001b[49m\n",
      "\u001b[0;31mTypeError\u001b[0m: 'module' object is not callable"
     ]
    }
   ],
   "source": [
    "cov(X[:,0],y)"
   ]
  },
  {
   "cell_type": "code",
   "execution_count": null,
   "id": "df32bce4-cd4f-46fb-aee9-e4856f2eda82",
   "metadata": {},
   "outputs": [],
   "source": []
  }
 ],
 "metadata": {
  "kernelspec": {
   "display_name": "mls_env",
   "language": "python",
   "name": "mls_env"
  },
  "language_info": {
   "codemirror_mode": {
    "name": "ipython",
    "version": 3
   },
   "file_extension": ".py",
   "mimetype": "text/x-python",
   "name": "python",
   "nbconvert_exporter": "python",
   "pygments_lexer": "ipython3",
   "version": "3.10.6"
  }
 },
 "nbformat": 4,
 "nbformat_minor": 5
}
