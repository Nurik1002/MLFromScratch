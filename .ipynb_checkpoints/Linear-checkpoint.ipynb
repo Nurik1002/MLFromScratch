{
 "cells": [
  {
   "cell_type": "markdown",
   "id": "787793a2-01ad-49f4-b450-465e036dd8d8",
   "metadata": {},
   "source": [
    "# Linear Regression\n"
   ]
  },
  {
   "cell_type": "markdown",
   "id": "430c8410-4253-4b63-bfd0-d0e90b60758d",
   "metadata": {},
   "source": [
    "**`Predict value`** \n",
    "<br>\n",
    "$\\hat y_i  = w x_i + b_i $\n",
    "\n",
    "<hr>\n",
    "\n",
    "**`Loss function`** \n",
    "<br>\n",
    "$ MSE=\\dfrac{1}{n}\\sum_{1}^n (  y_i - \\hat{y}  ) ^ 2 $ \n",
    "\n",
    "\n",
    "\n",
    "<br>\n",
    "$ MAE=\\dfrac{1}{n}\\sum_{1}^n |  y_i - \\hat{y}  | $ \n",
    "\n",
    "<br>\n",
    "\n",
    "<br>\n",
    "$ r 2\\_score=1 - \\dfrac{\\sum(y_i - \\hat y_i)^2} {\\sum(  y_i - y_{mean } ) ^ 2} $\n",
    "\n",
    "\n",
    "<hr>\n",
    "\n",
    "**`Gradient Descent`** \n",
    "<br>\n",
    "$ Loss=\\dfrac{1}{n}\\sum_{1}^2(\\hat y_i - y_i) $\n",
    "\n",
    "<br>\n",
    "\n",
    "$\\frac{\\partial Loss}{\\partial b} = \\dfrac{2}{n}\\sum_{(i=1)}^n(\\hat y_i - y_i)$\n",
    "\n",
    "<br>\n",
    "\n",
    "$\\frac{\\partial Loss}{\\partial w} = \\dfrac{2}{n}\\sum_{(i=1)}^n(\\hat y_i - y_i) x_i$\n",
    "\n",
    "<br>\n",
    "\n",
    "$b_{i+1} = b_i - lr \\frac{\\partial Loss}{\\partial b}$\n",
    "\n",
    "<br>\n",
    "\n",
    "$w_{i+1} = w_i - lr \\frac{\\partial Loss}{\\partial w} x_i$"
   ]
  },
  {
   "cell_type": "code",
   "execution_count": 6,
   "id": "3081e5e9-4962-4d7d-ab56-382566a0ccf5",
   "metadata": {
    "tags": []
   },
   "outputs": [],
   "source": [
    "import numpy as np\n",
    "import pandas as pd\n",
    "from sklearn.preprocessing import OrdinalEncoder"
   ]
  },
  {
   "cell_type": "code",
   "execution_count": 1,
   "id": "b35f0db4-cf40-4ba7-91c0-42c36b7ccb74",
   "metadata": {
    "tags": []
   },
   "outputs": [],
   "source": [
    "def std(value):\n",
    "    myu = np.mean(value)\n",
    "    return np.sqrt(np.sum(np.square(value - myu))/len(value))\n",
    "\n",
    "def mean(value):\n",
    "    return 1/len(value) * np.sum(value)\n",
    "\n",
    "def standartscaler(value):\n",
    "    return (value - np.mean(value))/std(value)"
   ]
  },
  {
   "cell_type": "code",
   "execution_count": 87,
   "id": "a1367ff4-5352-4371-a31c-94331ce3b994",
   "metadata": {
    "tags": []
   },
   "outputs": [],
   "source": [
    "class LinearRegression:\n",
    "    def __init__(self, lr = 0.01, epochs=200):\n",
    "        self.lr = lr\n",
    "        self.epochs = epochs\n",
    "        self.w = None\n",
    "        self.b = None\n",
    "        \n",
    "        \n",
    "    def mse(self, y_true, y_pred):\n",
    "        return np.mean((y_true - y_pred)**2)\n",
    "    \n",
    "    def mae(self, y_true, y_pred):\n",
    "        return np.mean(np.abs(y_true - y_pred))\n",
    "    \n",
    "    def r2_score(self, y, y_hat):\n",
    "        return 1 - np.sum(np.square(y-y_hat))/np.sum(y-np.mean(y))\n",
    "    \n",
    "    def predict(self, x):\n",
    "        return  np.dot(x, self.w) + self.b\n",
    "    \n",
    "    def fit(self,x,y):\n",
    "        n_samples, n_features = x.shape\n",
    "        self.w = np.zeros(n_features)\n",
    "        self.b = 0\n",
    "        \n",
    "        for _ in range(1,self.epochs+1):\n",
    "            y_pred = self.predict(x)\n",
    "            \n",
    "            dw = (1 / n_samples) * np.dot(x.T, (y_pred - y))\n",
    "            db = (1 / n_samples) * np.sum(y_pred - y)\n",
    "            \n",
    "\n",
    "            # update parameters\n",
    "            self.w -= self.lr * dw\n",
    "            self.b -= self.lr * db\n",
    "            #print(dw, db)\n",
    "            \n",
    "        print(f\"Loss MSE : {self.mse(y, y_pred)}\\t MAE : {self.mae(y, y_pred)} \\t r2_score : {self.r2_score(y, y_pred)}\")\n",
    "            \n",
    "            \n",
    "    def get_param(self):\n",
    "        return self.w, self.b\n",
    "    "
   ]
  },
  {
   "cell_type": "code",
   "execution_count": 88,
   "id": "2cab357c-fb9a-4789-98b3-5b448ead346d",
   "metadata": {
    "tags": []
   },
   "outputs": [],
   "source": [
    "lr = LinearRegression(lr=0.01, epochs=10000)"
   ]
  },
  {
   "cell_type": "code",
   "execution_count": 89,
   "id": "859b031a-cee8-4d3d-9fcc-66152a77f181",
   "metadata": {},
   "outputs": [
    {
     "data": {
      "text/html": [
       "<div>\n",
       "<style scoped>\n",
       "    .dataframe tbody tr th:only-of-type {\n",
       "        vertical-align: middle;\n",
       "    }\n",
       "\n",
       "    .dataframe tbody tr th {\n",
       "        vertical-align: top;\n",
       "    }\n",
       "\n",
       "    .dataframe thead th {\n",
       "        text-align: right;\n",
       "    }\n",
       "</style>\n",
       "<table border=\"1\" class=\"dataframe\">\n",
       "  <thead>\n",
       "    <tr style=\"text-align: right;\">\n",
       "      <th></th>\n",
       "      <th>Ob-Havo</th>\n",
       "      <th>Temp</th>\n",
       "      <th>Namlik</th>\n",
       "      <th>Shamol</th>\n",
       "      <th>Oyinchilar</th>\n",
       "    </tr>\n",
       "  </thead>\n",
       "  <tbody>\n",
       "    <tr>\n",
       "      <th>0</th>\n",
       "      <td>Yomg'ir</td>\n",
       "      <td>Issiq</td>\n",
       "      <td>Yuqori</td>\n",
       "      <td>False</td>\n",
       "      <td>25</td>\n",
       "    </tr>\n",
       "    <tr>\n",
       "      <th>1</th>\n",
       "      <td>Yomg'ir</td>\n",
       "      <td>Issiq</td>\n",
       "      <td>Yuqori</td>\n",
       "      <td>True</td>\n",
       "      <td>30</td>\n",
       "    </tr>\n",
       "    <tr>\n",
       "      <th>2</th>\n",
       "      <td>Bulutli</td>\n",
       "      <td>Issiq</td>\n",
       "      <td>Yuqori</td>\n",
       "      <td>False</td>\n",
       "      <td>46</td>\n",
       "    </tr>\n",
       "    <tr>\n",
       "      <th>3</th>\n",
       "      <td>Quyoshli</td>\n",
       "      <td>Yaxshi</td>\n",
       "      <td>Yuqori</td>\n",
       "      <td>False</td>\n",
       "      <td>45</td>\n",
       "    </tr>\n",
       "    <tr>\n",
       "      <th>4</th>\n",
       "      <td>Quyoshli</td>\n",
       "      <td>Salqin</td>\n",
       "      <td>Normal</td>\n",
       "      <td>False</td>\n",
       "      <td>52</td>\n",
       "    </tr>\n",
       "    <tr>\n",
       "      <th>5</th>\n",
       "      <td>Quyoshli</td>\n",
       "      <td>Salqin</td>\n",
       "      <td>Normal</td>\n",
       "      <td>True</td>\n",
       "      <td>23</td>\n",
       "    </tr>\n",
       "    <tr>\n",
       "      <th>6</th>\n",
       "      <td>Bulutli</td>\n",
       "      <td>Salqin</td>\n",
       "      <td>Normal</td>\n",
       "      <td>True</td>\n",
       "      <td>43</td>\n",
       "    </tr>\n",
       "    <tr>\n",
       "      <th>7</th>\n",
       "      <td>Yomg'ir</td>\n",
       "      <td>Yaxshi</td>\n",
       "      <td>Yuqori</td>\n",
       "      <td>False</td>\n",
       "      <td>35</td>\n",
       "    </tr>\n",
       "    <tr>\n",
       "      <th>8</th>\n",
       "      <td>Yomg'ir</td>\n",
       "      <td>Salqin</td>\n",
       "      <td>Normal</td>\n",
       "      <td>False</td>\n",
       "      <td>38</td>\n",
       "    </tr>\n",
       "    <tr>\n",
       "      <th>9</th>\n",
       "      <td>Quyoshli</td>\n",
       "      <td>Yaxshi</td>\n",
       "      <td>Normal</td>\n",
       "      <td>False</td>\n",
       "      <td>46</td>\n",
       "    </tr>\n",
       "    <tr>\n",
       "      <th>10</th>\n",
       "      <td>Yomg'ir</td>\n",
       "      <td>Yaxshi</td>\n",
       "      <td>Normal</td>\n",
       "      <td>True</td>\n",
       "      <td>48</td>\n",
       "    </tr>\n",
       "    <tr>\n",
       "      <th>11</th>\n",
       "      <td>Bulutli</td>\n",
       "      <td>Yaxshi</td>\n",
       "      <td>Yuqori</td>\n",
       "      <td>True</td>\n",
       "      <td>52</td>\n",
       "    </tr>\n",
       "    <tr>\n",
       "      <th>12</th>\n",
       "      <td>Bulutli</td>\n",
       "      <td>Issiq</td>\n",
       "      <td>Normal</td>\n",
       "      <td>False</td>\n",
       "      <td>44</td>\n",
       "    </tr>\n",
       "    <tr>\n",
       "      <th>13</th>\n",
       "      <td>Quyoshli</td>\n",
       "      <td>Yaxshi</td>\n",
       "      <td>Yuqori</td>\n",
       "      <td>True</td>\n",
       "      <td>30</td>\n",
       "    </tr>\n",
       "  </tbody>\n",
       "</table>\n",
       "</div>"
      ],
      "text/plain": [
       "     Ob-Havo    Temp  Namlik  Shamol  Oyinchilar\n",
       "0    Yomg'ir   Issiq  Yuqori   False          25\n",
       "1    Yomg'ir   Issiq  Yuqori    True          30\n",
       "2    Bulutli   Issiq  Yuqori   False          46\n",
       "3   Quyoshli  Yaxshi  Yuqori   False          45\n",
       "4   Quyoshli  Salqin  Normal   False          52\n",
       "5   Quyoshli  Salqin  Normal    True          23\n",
       "6    Bulutli  Salqin  Normal    True          43\n",
       "7    Yomg'ir  Yaxshi  Yuqori   False          35\n",
       "8    Yomg'ir  Salqin  Normal   False          38\n",
       "9   Quyoshli  Yaxshi  Normal   False          46\n",
       "10   Yomg'ir  Yaxshi  Normal    True          48\n",
       "11   Bulutli  Yaxshi  Yuqori    True          52\n",
       "12   Bulutli   Issiq  Normal   False          44\n",
       "13  Quyoshli  Yaxshi  Yuqori    True          30"
      ]
     },
     "execution_count": 89,
     "metadata": {},
     "output_type": "execute_result"
    }
   ],
   "source": [
    "data = pd.read_csv(\"Datasets/DTree.csv\")\n",
    "data"
   ]
  },
  {
   "cell_type": "code",
   "execution_count": 90,
   "id": "7719dc4f-7c5c-483f-af9e-7eed9397d1ea",
   "metadata": {
    "tags": []
   },
   "outputs": [
    {
     "data": {
      "text/plain": [
       "array([[2., 0., 1., 0.],\n",
       "       [2., 0., 1., 1.],\n",
       "       [0., 0., 1., 0.],\n",
       "       [1., 2., 1., 0.],\n",
       "       [1., 1., 0., 0.],\n",
       "       [1., 1., 0., 1.],\n",
       "       [0., 1., 0., 1.],\n",
       "       [2., 2., 1., 0.],\n",
       "       [2., 1., 0., 0.],\n",
       "       [1., 2., 0., 0.],\n",
       "       [2., 2., 0., 1.],\n",
       "       [0., 2., 1., 1.],\n",
       "       [0., 0., 0., 0.],\n",
       "       [1., 2., 1., 1.]])"
      ]
     },
     "execution_count": 90,
     "metadata": {},
     "output_type": "execute_result"
    }
   ],
   "source": [
    "X = OrdinalEncoder().fit_transform(data.drop('Oyinchilar', axis=1))\n",
    "X"
   ]
  },
  {
   "cell_type": "code",
   "execution_count": 91,
   "id": "009d9f10-6bde-4985-8154-264b0e022813",
   "metadata": {
    "tags": []
   },
   "outputs": [
    {
     "data": {
      "text/plain": [
       "array([25, 30, 46, 45, 52, 23, 43, 35, 38, 46, 48, 52, 44, 30])"
      ]
     },
     "execution_count": 91,
     "metadata": {},
     "output_type": "execute_result"
    }
   ],
   "source": [
    "y = data['Oyinchilar'].to_numpy()\n",
    "y"
   ]
  },
  {
   "cell_type": "code",
   "execution_count": 92,
   "id": "99f65acf-49a9-4845-bcc7-937f287d02d2",
   "metadata": {
    "tags": []
   },
   "outputs": [
    {
     "name": "stdout",
     "output_type": "stream",
     "text": [
      "Loss MSE : 46.6820810473018\t MAE : 5.32514350994788 \t r2_score : -4.598943186457981e+16\n"
     ]
    }
   ],
   "source": [
    "lr.fit(X,y)"
   ]
  },
  {
   "cell_type": "code",
   "execution_count": 93,
   "id": "2463dbaa-6315-4acb-b670-39b2911e6faf",
   "metadata": {
    "tags": []
   },
   "outputs": [
    {
     "data": {
      "text/plain": [
       "array([29.89556633])"
      ]
     },
     "execution_count": 93,
     "metadata": {},
     "output_type": "execute_result"
    }
   ],
   "source": [
    "lr.predict([[2., 0., 1., 0.]])"
   ]
  },
  {
   "cell_type": "code",
   "execution_count": 94,
   "id": "336da087-6132-473d-ba8f-bb850515a00b",
   "metadata": {
    "tags": []
   },
   "outputs": [
    {
     "data": {
      "text/plain": [
       "(array([-5.9773924 ,  4.46188017, -3.57461681, -5.9427635 ]),\n",
       " 45.424967946394744)"
      ]
     },
     "execution_count": 94,
     "metadata": {},
     "output_type": "execute_result"
    }
   ],
   "source": [
    "lr.get_param()"
   ]
  },
  {
   "cell_type": "code",
   "execution_count": 95,
   "id": "c72a9516-1f35-4f2f-b8ed-71cbf26505f1",
   "metadata": {
    "tags": []
   },
   "outputs": [],
   "source": [
    "from sklearn.linear_model import LinearRegression"
   ]
  },
  {
   "cell_type": "code",
   "execution_count": 96,
   "id": "e10f3bab-9174-4fed-a764-e182899acd29",
   "metadata": {
    "tags": []
   },
   "outputs": [],
   "source": [
    "lr_sk = LinearRegression()"
   ]
  },
  {
   "cell_type": "code",
   "execution_count": 97,
   "id": "8a00adcf-511c-495d-a81a-5c6ef211d75b",
   "metadata": {
    "tags": []
   },
   "outputs": [
    {
     "data": {
      "text/html": [
       "<style>#sk-container-id-3 {color: black;background-color: white;}#sk-container-id-3 pre{padding: 0;}#sk-container-id-3 div.sk-toggleable {background-color: white;}#sk-container-id-3 label.sk-toggleable__label {cursor: pointer;display: block;width: 100%;margin-bottom: 0;padding: 0.3em;box-sizing: border-box;text-align: center;}#sk-container-id-3 label.sk-toggleable__label-arrow:before {content: \"▸\";float: left;margin-right: 0.25em;color: #696969;}#sk-container-id-3 label.sk-toggleable__label-arrow:hover:before {color: black;}#sk-container-id-3 div.sk-estimator:hover label.sk-toggleable__label-arrow:before {color: black;}#sk-container-id-3 div.sk-toggleable__content {max-height: 0;max-width: 0;overflow: hidden;text-align: left;background-color: #f0f8ff;}#sk-container-id-3 div.sk-toggleable__content pre {margin: 0.2em;color: black;border-radius: 0.25em;background-color: #f0f8ff;}#sk-container-id-3 input.sk-toggleable__control:checked~div.sk-toggleable__content {max-height: 200px;max-width: 100%;overflow: auto;}#sk-container-id-3 input.sk-toggleable__control:checked~label.sk-toggleable__label-arrow:before {content: \"▾\";}#sk-container-id-3 div.sk-estimator input.sk-toggleable__control:checked~label.sk-toggleable__label {background-color: #d4ebff;}#sk-container-id-3 div.sk-label input.sk-toggleable__control:checked~label.sk-toggleable__label {background-color: #d4ebff;}#sk-container-id-3 input.sk-hidden--visually {border: 0;clip: rect(1px 1px 1px 1px);clip: rect(1px, 1px, 1px, 1px);height: 1px;margin: -1px;overflow: hidden;padding: 0;position: absolute;width: 1px;}#sk-container-id-3 div.sk-estimator {font-family: monospace;background-color: #f0f8ff;border: 1px dotted black;border-radius: 0.25em;box-sizing: border-box;margin-bottom: 0.5em;}#sk-container-id-3 div.sk-estimator:hover {background-color: #d4ebff;}#sk-container-id-3 div.sk-parallel-item::after {content: \"\";width: 100%;border-bottom: 1px solid gray;flex-grow: 1;}#sk-container-id-3 div.sk-label:hover label.sk-toggleable__label {background-color: #d4ebff;}#sk-container-id-3 div.sk-serial::before {content: \"\";position: absolute;border-left: 1px solid gray;box-sizing: border-box;top: 0;bottom: 0;left: 50%;z-index: 0;}#sk-container-id-3 div.sk-serial {display: flex;flex-direction: column;align-items: center;background-color: white;padding-right: 0.2em;padding-left: 0.2em;position: relative;}#sk-container-id-3 div.sk-item {position: relative;z-index: 1;}#sk-container-id-3 div.sk-parallel {display: flex;align-items: stretch;justify-content: center;background-color: white;position: relative;}#sk-container-id-3 div.sk-item::before, #sk-container-id-3 div.sk-parallel-item::before {content: \"\";position: absolute;border-left: 1px solid gray;box-sizing: border-box;top: 0;bottom: 0;left: 50%;z-index: -1;}#sk-container-id-3 div.sk-parallel-item {display: flex;flex-direction: column;z-index: 1;position: relative;background-color: white;}#sk-container-id-3 div.sk-parallel-item:first-child::after {align-self: flex-end;width: 50%;}#sk-container-id-3 div.sk-parallel-item:last-child::after {align-self: flex-start;width: 50%;}#sk-container-id-3 div.sk-parallel-item:only-child::after {width: 0;}#sk-container-id-3 div.sk-dashed-wrapped {border: 1px dashed gray;margin: 0 0.4em 0.5em 0.4em;box-sizing: border-box;padding-bottom: 0.4em;background-color: white;}#sk-container-id-3 div.sk-label label {font-family: monospace;font-weight: bold;display: inline-block;line-height: 1.2em;}#sk-container-id-3 div.sk-label-container {text-align: center;}#sk-container-id-3 div.sk-container {/* jupyter's `normalize.less` sets `[hidden] { display: none; }` but bootstrap.min.css set `[hidden] { display: none !important; }` so we also need the `!important` here to be able to override the default hidden behavior on the sphinx rendered scikit-learn.org. See: https://github.com/scikit-learn/scikit-learn/issues/21755 */display: inline-block !important;position: relative;}#sk-container-id-3 div.sk-text-repr-fallback {display: none;}</style><div id=\"sk-container-id-3\" class=\"sk-top-container\"><div class=\"sk-text-repr-fallback\"><pre>LinearRegression()</pre><b>In a Jupyter environment, please rerun this cell to show the HTML representation or trust the notebook. <br />On GitHub, the HTML representation is unable to render, please try loading this page with nbviewer.org.</b></div><div class=\"sk-container\" hidden><div class=\"sk-item\"><div class=\"sk-estimator sk-toggleable\"><input class=\"sk-toggleable__control sk-hidden--visually\" id=\"sk-estimator-id-3\" type=\"checkbox\" checked><label for=\"sk-estimator-id-3\" class=\"sk-toggleable__label sk-toggleable__label-arrow\">LinearRegression</label><div class=\"sk-toggleable__content\"><pre>LinearRegression()</pre></div></div></div></div></div>"
      ],
      "text/plain": [
       "LinearRegression()"
      ]
     },
     "execution_count": 97,
     "metadata": {},
     "output_type": "execute_result"
    }
   ],
   "source": [
    "lr_sk.fit(X,y)"
   ]
  },
  {
   "cell_type": "code",
   "execution_count": 98,
   "id": "024f101d-a6ac-40e8-aebf-c71268cebc6d",
   "metadata": {
    "tags": []
   },
   "outputs": [
    {
     "data": {
      "text/plain": [
       "array([29.89557055])"
      ]
     },
     "execution_count": 98,
     "metadata": {},
     "output_type": "execute_result"
    }
   ],
   "source": [
    "lr_sk.predict([[2., 0., 1., 0.]])"
   ]
  }
 ],
 "metadata": {
  "kernelspec": {
   "display_name": "ml_env",
   "language": "python",
   "name": "ml_env"
  },
  "language_info": {
   "codemirror_mode": {
    "name": "ipython",
    "version": 3
   },
   "file_extension": ".py",
   "mimetype": "text/x-python",
   "name": "python",
   "nbconvert_exporter": "python",
   "pygments_lexer": "ipython3",
   "version": "3.11.2"
  }
 },
 "nbformat": 4,
 "nbformat_minor": 5
}
