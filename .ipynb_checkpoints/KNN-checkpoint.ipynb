{
 "cells": [
  {
   "cell_type": "markdown",
   "id": "a2f4206a-6cb7-442f-923b-4574ff81b716",
   "metadata": {},
   "source": [
    "# K-Nearest Neighbors Algorithm"
   ]
  },
  {
   "cell_type": "markdown",
   "id": "d3c04eb0-8f6f-4940-95bc-d130d78299d7",
   "metadata": {},
   "source": [
    "# KNN Algorithm\n",
    "\n",
    "* Initialize K to your chosen number of neighbors\n",
    "* 3. For each example in the data\n",
    "* - 3.1 Calculate the distance between the query example and the current example from the data.\n",
    "* - 3.2 Add the distance and the index of the example to an ordered collection\n",
    "* 4. Sort the ordered collection of distances and indices from smallest to largest (in ascending order) by the distances\n",
    "* 5. Pick the first K entries from the sorted collection\n",
    "* 6. Get the labels of the selected K entries\n",
    "* 7. If regression, return the mean of the K labels\n",
    "* 8. If classification, return the mode of the K labels"
   ]
  },
  {
   "cell_type": "markdown",
   "id": "2f871255-adf0-4218-81b4-ad8e4b792de3",
   "metadata": {},
   "source": [
    "# KNN ning ijobiy va salbiy tomonlari\n",
    "**`Ijobiy tomonlari`**\n",
    "* Bu tushunish va talqin qilish uchun juda oddiy algoritm.\n",
    "* Bu chiziqli bo'lmagan ma'lumotlar uchun juda foydali, chunki bu algoritmda ma'lumotlar haqida hech qanday taxmin yo'q.\n",
    "* Bu ko'p qirrali algoritm, chunki biz undan tasniflash va regressiya uchun foydalanishimiz mumkin.\n",
    "* U nisbatan yuqori aniqlikka ega, ammo KNNga qaraganda ancha yaxshi nazorat qilinadigan o'rganish modellari mavjud.\n",
    "\n",
    "**`Kamchiliklari`**\n",
    "* Bu hisoblash uchun biroz qimmat algoritm, chunki u barcha o'quv ma'lumotlarini saqlaydi.\n",
    "* Boshqa nazorat qilinadigan o'rganish algoritmlariga qaraganda yuqori xotirani saqlash talab qilinadi.\n",
    "* Katta N bo'lsa bashorat sekin.\n",
    "* U ma'lumotlar ko'lamiga, shuningdek, ahamiyatsiz xususiyatlarga juda sezgir."
   ]
  },
  {
   "cell_type": "code",
   "execution_count": 27,
   "id": "e0e18b6f-099f-4e59-81d8-8c1baa68aa96",
   "metadata": {
    "tags": []
   },
   "outputs": [],
   "source": [
    "from sklearn import datasets\n",
    "from sklearn.model_selection import train_test_split\n",
    "from sklearn.metrics import accuracy_score\n",
    "import numpy as np\n",
    "from collections import Counter"
   ]
  },
  {
   "cell_type": "markdown",
   "id": "7fe8a7b3-d425-477d-b496-0e239f69925a",
   "metadata": {},
   "source": [
    "**`Evklid masofasi`**"
   ]
  },
  {
   "cell_type": "code",
   "execution_count": 7,
   "id": "5e23ce7c-3207-4865-a80d-1a79e45bac00",
   "metadata": {
    "tags": []
   },
   "outputs": [],
   "source": [
    "def euclidean_distance(x1,x2):\n",
    "    dist = np.linalg.norm(x1-x2)\n",
    "    return dist"
   ]
  },
  {
   "cell_type": "markdown",
   "id": "e32ffc01-c07c-4cbd-b25c-adf0a8f91cc5",
   "metadata": {},
   "source": [
    "**`KNN classification`**"
   ]
  },
  {
   "cell_type": "code",
   "execution_count": null,
   "id": "e6a424c3-7fbd-4029-864b-e482d29f34d0",
   "metadata": {
    "tags": []
   },
   "outputs": [],
   "source": [
    "class KNN:\n",
    "    def __init__(self, k = 3):\n",
    "        self.k = k\n",
    "        \n",
    "    \n",
    "    def fit(self, X, y):\n",
    "        self.X = X\n",
    "        self.y = y\n",
    "        \n",
    "    def predict(self, X):\n",
    "        predicted_labels = [self._predict(x) for x in X]\n",
    "        return np.array(predicted_labels)\n",
    "    \n",
    "    def _predict(self,x):\n",
    "        \n",
    "        distances = [euclidean_distance(x, x_train) for x_train in self.X]\n",
    "        \n",
    "        k_index = np.argsort(distances)[:self.k]\n",
    "        k_nearest_label = [self.y[i] for i in k_index]\n",
    "        \n",
    "        most_common = Counter(k_nearest_label).most_common(1)\n",
    "        return most_common[0][0]       "
   ]
  },
  {
   "cell_type": "markdown",
   "id": "97ce1646-665f-4b69-8d5a-0a489b09d893",
   "metadata": {},
   "source": [
    "### Test"
   ]
  },
  {
   "cell_type": "markdown",
   "id": "0f5fa21b-93e7-461b-9116-0dda4dce142d",
   "metadata": {},
   "source": [
    "**`Load dataset iris`**"
   ]
  },
  {
   "cell_type": "code",
   "execution_count": 10,
   "id": "e647b568-898d-4bf2-855f-039c90d7d7c7",
   "metadata": {},
   "outputs": [],
   "source": [
    "data = datasets.load_iris()"
   ]
  },
  {
   "cell_type": "code",
   "execution_count": 12,
   "id": "56468fc7-fad4-4047-8d20-4f8863774080",
   "metadata": {},
   "outputs": [],
   "source": [
    "X, y = data.data, data.target"
   ]
  },
  {
   "cell_type": "code",
   "execution_count": 13,
   "id": "726f1a8b-c7b7-454a-a6e9-ccd194bd111c",
   "metadata": {},
   "outputs": [
    {
     "data": {
      "text/plain": [
       "(150, 4)"
      ]
     },
     "execution_count": 13,
     "metadata": {},
     "output_type": "execute_result"
    }
   ],
   "source": [
    "X.shape"
   ]
  },
  {
   "cell_type": "code",
   "execution_count": 14,
   "id": "81b9368e-a5b6-450c-937d-64310501f2f2",
   "metadata": {},
   "outputs": [
    {
     "data": {
      "text/plain": [
       "(150,)"
      ]
     },
     "execution_count": 14,
     "metadata": {},
     "output_type": "execute_result"
    }
   ],
   "source": [
    "y.shape"
   ]
  },
  {
   "cell_type": "code",
   "execution_count": 21,
   "id": "8657c9dc-4be9-4b23-a2e3-fecfae5f6207",
   "metadata": {},
   "outputs": [],
   "source": [
    "X_train, X_test, y_train, y_test = train_test_split(X, y, shuffle=True, random_state=42)"
   ]
  },
  {
   "cell_type": "code",
   "execution_count": 22,
   "id": "b1babbe3-a7c3-4fd0-aacd-ef923136ca79",
   "metadata": {},
   "outputs": [],
   "source": [
    "knn = KNN(k=5)"
   ]
  },
  {
   "cell_type": "code",
   "execution_count": 23,
   "id": "b90f3499-37da-49fd-9ac3-b4f960d52713",
   "metadata": {},
   "outputs": [],
   "source": [
    "knn.fit(X_train, y_train)"
   ]
  },
  {
   "cell_type": "code",
   "execution_count": 24,
   "id": "d0d10bf7-253f-4374-9331-4801890cbf7e",
   "metadata": {},
   "outputs": [],
   "source": [
    "predict = knn.predict(X_test)"
   ]
  },
  {
   "cell_type": "code",
   "execution_count": 25,
   "id": "3f847184-6460-4cbe-96a1-159b7663dd3d",
   "metadata": {},
   "outputs": [
    {
     "data": {
      "text/plain": [
       "array([1, 0, 2, 1, 1, 0, 1, 2, 1, 1, 2, 0, 0, 0, 0, 1, 2, 1, 1, 2, 0, 2,\n",
       "       0, 2, 2, 2, 2, 2, 0, 0, 0, 0, 1, 0, 0, 2, 1, 0])"
      ]
     },
     "execution_count": 25,
     "metadata": {},
     "output_type": "execute_result"
    }
   ],
   "source": [
    "predict"
   ]
  },
  {
   "cell_type": "code",
   "execution_count": 26,
   "id": "bd3d4391-69b4-42ce-b2a5-3353d39b488e",
   "metadata": {},
   "outputs": [
    {
     "data": {
      "text/plain": [
       "array([1, 0, 2, 1, 1, 0, 1, 2, 1, 1, 2, 0, 0, 0, 0, 1, 2, 1, 1, 2, 0, 2,\n",
       "       0, 2, 2, 2, 2, 2, 0, 0, 0, 0, 1, 0, 0, 2, 1, 0])"
      ]
     },
     "execution_count": 26,
     "metadata": {},
     "output_type": "execute_result"
    }
   ],
   "source": [
    "y_test"
   ]
  },
  {
   "cell_type": "code",
   "execution_count": 31,
   "id": "9cde8e2e-8cde-4d40-ab44-b8871cc11841",
   "metadata": {},
   "outputs": [
    {
     "data": {
      "text/plain": [
       "1.0"
      ]
     },
     "execution_count": 31,
     "metadata": {},
     "output_type": "execute_result"
    }
   ],
   "source": [
    "accuracy_score(y_test, predict)"
   ]
  }
 ],
 "metadata": {
  "kernelspec": {
   "display_name": "aievn",
   "language": "python",
   "name": "aievn"
  },
  "language_info": {
   "codemirror_mode": {
    "name": "ipython",
    "version": 3
   },
   "file_extension": ".py",
   "mimetype": "text/x-python",
   "name": "python",
   "nbconvert_exporter": "python",
   "pygments_lexer": "ipython3",
   "version": "3.10.10"
  }
 },
 "nbformat": 4,
 "nbformat_minor": 5
}
