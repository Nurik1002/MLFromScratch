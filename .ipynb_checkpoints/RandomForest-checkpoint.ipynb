{
 "cells": [
  {
   "cell_type": "code",
   "execution_count": 25,
   "id": "01861e1e-28b3-4c5b-a6c8-490c981db74b",
   "metadata": {
    "tags": []
   },
   "outputs": [],
   "source": [
    "# Random Forest qurish uchun DecisionTreeRegressor va DecisionTreeClassifier \n",
    "from sklearn.tree import DecisionTreeRegressor,DecisionTreeClassifier \n",
    "from sklearn.ensemble import RandomForestRegressor, RandomForestClassifier\n",
    "\n",
    "# Sklearn metrics \n",
    "from sklearn.metrics import  mean_squared_error, mean_absolute_error\n",
    "from sklearn.metrics import accuracy_score\n",
    "\n",
    "\n",
    "import numpy as np  # Matritsa va massivlar bilan ishlovchi modul\n",
    "import pandas as pd # Ma'lumotlar bilan ishlovchi modul\n",
    "# Sklearn datasets and train test split\n",
    "from sklearn import datasets\n",
    "from sklearn.model_selection import train_test_split\n",
    "\n",
    "from collections import Counter "
   ]
  },
  {
   "cell_type": "markdown",
   "id": "d2c25b66-aa2f-4997-96f8-762a1a7dc2da",
   "metadata": {},
   "source": [
    "# Random Forest Regressor"
   ]
  },
  {
   "cell_type": "code",
   "execution_count": 26,
   "id": "d1395fe2-7167-4d00-88c2-a0d3ad88d98e",
   "metadata": {
    "tags": []
   },
   "outputs": [],
   "source": [
    "class CustomRandomForestRegressor:\n",
    "    '''\n",
    "    Random Forest algoritmi 0 dam\n",
    "    '''\n",
    "    def __init__(self, num_trees=25, min_samples_split=2, max_depth=5):\n",
    "        \"\"\"\n",
    "        Konstruktor\n",
    "        \"\"\"\n",
    "        self.num_trees = num_trees\n",
    "        self.min_samples_split = min_samples_split\n",
    "        self.max_depth = max_depth\n",
    "        # Decision Tree larni saqlash uchun list\n",
    "        self.decision_trees = []\n",
    "        \n",
    "    @staticmethod\n",
    "    def _sample(X, y):\n",
    "        '''\n",
    "        Ma'lumotlarni randmo tanlovchi funksiya\n",
    "        '''\n",
    "        n_rows, n_cols = X.shape\n",
    "        #\n",
    "        samples = np.random.choice(a=n_rows, size=n_rows, replace=True)\n",
    "        return X[samples], y[samples]\n",
    "        \n",
    "    def fit(self, X, y):\n",
    "        '''\n",
    "        Random Forestni train qilish funksiyasi\n",
    "        \n",
    "        :param X: np.array, atributlari(features)\n",
    "        :param y: np.array, klasslari(target)\n",
    "        :return: None\n",
    "        '''\n",
    "\n",
    "        if len(self.decision_trees) > 0:\n",
    "            self.decision_trees = []\n",
    "            \n",
    "        # Random Forestning Decision Tree (daraxtlarini qurish)\n",
    "        num_built = 0\n",
    "        while num_built < self.num_trees:\n",
    "            try:\n",
    "                clf = DecisionTreeRegressor(\n",
    "                    min_samples_split=self.min_samples_split,\n",
    "                    max_depth=self.max_depth\n",
    "                )\n",
    "                # Random ma'lumotlarni olish\n",
    "                _X, _y = self._sample(X, y)\n",
    "                # Decision Tree larni oqitish \n",
    "                clf.fit(_X, _y)\n",
    "                # Oqitilgan Decision Tree lani listga saqlash\n",
    "                self.decision_trees.append(clf)\n",
    "                num_built += 1\n",
    "            except Exception as e:\n",
    "                continue\n",
    "    \n",
    "    def predict(self, X):\n",
    "        '''\n",
    "        Yangi ma'lumotni bashorat qilish uchun predict fuksiyasi\n",
    "        \n",
    "        :param X: np.array, yangi ma'lumot predict uchun\n",
    "        :return: class\n",
    "        '''\n",
    "        # Har bir Decision Tree ni predict qilgan qiymatlarini olyapmiz va listga yig'yapmiz\n",
    "        y = []\n",
    "        \n",
    "        for x in X:\n",
    "            y_x = []\n",
    "            for tree in self.decision_trees:\n",
    "                y_x.append(tree.predict([x]))\n",
    "            y.append(np.array(y_x).mean())\n",
    "        \n",
    "        return np.array(y)"
   ]
  },
  {
   "cell_type": "markdown",
   "id": "7ab2f11f-5c2b-48f2-8055-3bca0bdb7f0e",
   "metadata": {},
   "source": [
    "# Random Forest Classifier"
   ]
  },
  {
   "cell_type": "code",
   "execution_count": 27,
   "id": "b6b41add-9603-4c04-9910-98e4c7fe7d13",
   "metadata": {
    "tags": []
   },
   "outputs": [],
   "source": [
    "class CustomRandomForestClassifier:\n",
    "    '''\n",
    "    Random Forest algoritmi 0 dam\n",
    "    '''\n",
    "    def __init__(self, num_trees=25, min_samples_split=2, max_depth=5):\n",
    "        \"\"\"\n",
    "        Konstruktor\n",
    "        \"\"\"\n",
    "        self.num_trees = num_trees\n",
    "        self.min_samples_split = min_samples_split\n",
    "        self.max_depth = max_depth\n",
    "        # Decision Tree larni saqlash uchun list\n",
    "        self.decision_trees = []\n",
    "        \n",
    "    @staticmethod\n",
    "    def _sample(X, y):\n",
    "        '''\n",
    "        Ma'lumotlarni randmo tanlovchi funksiya\n",
    "        '''\n",
    "        n_rows, n_cols = X.shape\n",
    "        #\n",
    "        samples = np.random.choice(a=n_rows, size=n_rows, replace=True)\n",
    "        return X[samples], y[samples]\n",
    "        \n",
    "    def fit(self, X, y):\n",
    "        '''\n",
    "        Random Forestni train qilish funksiyasi\n",
    "        \n",
    "        :param X: np.array, atributlari(features)\n",
    "        :param y: np.array, klasslari(target)\n",
    "        :return: None\n",
    "        '''\n",
    "\n",
    "        if len(self.decision_trees) > 0:\n",
    "            self.decision_trees = []\n",
    "            \n",
    "        # Random Forestning Decision Tree (daraxtlarini qurish)\n",
    "        num_built = 0\n",
    "        while num_built < self.num_trees:\n",
    "            try:\n",
    "                clf = DecisionTreeClassifier(\n",
    "                    min_samples_split=self.min_samples_split,\n",
    "                    max_depth=self.max_depth\n",
    "                )\n",
    "                # Random ma'lumotlarni olish\n",
    "                _X, _y = self._sample(X, y)\n",
    "                # Decision Tree larni oqitish \n",
    "                clf.fit(_X, _y)\n",
    "                # Oqitilgan Decision Tree lani listga saqlash\n",
    "                self.decision_trees.append(clf)\n",
    "                num_built += 1\n",
    "            except Exception as e:\n",
    "                continue\n",
    "    \n",
    "    def predict(self, X):\n",
    "        '''\n",
    "        Yangi ma'lumotni bashorat qilish uchun predict fuksiyasi\n",
    "        \n",
    "        :param X: np.array, yangi ma'lumot predict uchun\n",
    "        :return: class\n",
    "        '''\n",
    "        # Har bir Decision Tree ni predict qilgan qiymatlarini olyapmiz va listga yig'yapmiz\n",
    "        y = []\n",
    "        for tree in self.decision_trees:\n",
    "            y.append(tree.predict(X))\n",
    "        \n",
    "        # Eng ko'p bashorat qilingan qiymatlarni topish uchun litni qayta shakllantiryapmiz\n",
    "        y = np.swapaxes(a=y, axis1=0, axis2=1)\n",
    "        \n",
    "        # Oxirgi predict qiymatni qaytaradi\n",
    "        predictions = []\n",
    "        for preds in y:\n",
    "            counter = Counter(preds)\n",
    "            predictions.append(counter.most_common(1)[0][0])\n",
    "        return predictions"
   ]
  },
  {
   "cell_type": "markdown",
   "id": "dac37906-9a3b-4c43-8010-74bcd6db8179",
   "metadata": {},
   "source": [
    "# Test Classifier"
   ]
  },
  {
   "cell_type": "code",
   "execution_count": 28,
   "id": "5b1c4351-9623-4b55-9e12-b6b7ebdb4125",
   "metadata": {
    "tags": []
   },
   "outputs": [],
   "source": [
    "iris = datasets.load_iris()\n",
    "X = iris[\"data\"]\n",
    "y = iris[\"target\"]\n",
    "labels = iris[\"target_names\"]\n",
    "X_train_class, X_test_class, y_train_class, y_test_class = train_test_split(X, y, test_size=0.2, random_state=1)"
   ]
  },
  {
   "cell_type": "code",
   "execution_count": 29,
   "id": "9ebe1d94-9421-4f3d-b890-b1f8bfd9d757",
   "metadata": {
    "tags": []
   },
   "outputs": [],
   "source": [
    "custom_rf_classifier = CustomRandomForestClassifier()"
   ]
  },
  {
   "cell_type": "code",
   "execution_count": 30,
   "id": "ed84b5e9-6e86-4f07-844a-b4b03bcba06a",
   "metadata": {
    "tags": []
   },
   "outputs": [],
   "source": [
    "custom_rf_classifier.fit(X_train_class, y_train_class)"
   ]
  },
  {
   "cell_type": "code",
   "execution_count": 31,
   "id": "f7d59332-ced0-42f8-ba25-6cbf9add21eb",
   "metadata": {
    "tags": []
   },
   "outputs": [
    {
     "name": "stdout",
     "output_type": "stream",
     "text": [
      "Accuracy :  0.9666666666666667\n"
     ]
    }
   ],
   "source": [
    "custom_preds_class = custom_rf_classifier.predict(X_test_class)\n",
    "\n",
    "print(\"Accuracy : \", accuracy_score(y_test_class, custom_preds_class))"
   ]
  },
  {
   "cell_type": "code",
   "execution_count": 32,
   "id": "27763587-cbf9-4419-b618-bc3254b20622",
   "metadata": {
    "tags": []
   },
   "outputs": [],
   "source": [
    "sk_rf_class = RandomForestClassifier(n_estimators=25, min_samples_split=2, max_depth=5)"
   ]
  },
  {
   "cell_type": "code",
   "execution_count": 33,
   "id": "a493d207-5d77-493f-9f4b-f4a5575b3b6a",
   "metadata": {
    "tags": []
   },
   "outputs": [
    {
     "data": {
      "text/html": [
       "<style>#sk-container-id-3 {color: black;background-color: white;}#sk-container-id-3 pre{padding: 0;}#sk-container-id-3 div.sk-toggleable {background-color: white;}#sk-container-id-3 label.sk-toggleable__label {cursor: pointer;display: block;width: 100%;margin-bottom: 0;padding: 0.3em;box-sizing: border-box;text-align: center;}#sk-container-id-3 label.sk-toggleable__label-arrow:before {content: \"▸\";float: left;margin-right: 0.25em;color: #696969;}#sk-container-id-3 label.sk-toggleable__label-arrow:hover:before {color: black;}#sk-container-id-3 div.sk-estimator:hover label.sk-toggleable__label-arrow:before {color: black;}#sk-container-id-3 div.sk-toggleable__content {max-height: 0;max-width: 0;overflow: hidden;text-align: left;background-color: #f0f8ff;}#sk-container-id-3 div.sk-toggleable__content pre {margin: 0.2em;color: black;border-radius: 0.25em;background-color: #f0f8ff;}#sk-container-id-3 input.sk-toggleable__control:checked~div.sk-toggleable__content {max-height: 200px;max-width: 100%;overflow: auto;}#sk-container-id-3 input.sk-toggleable__control:checked~label.sk-toggleable__label-arrow:before {content: \"▾\";}#sk-container-id-3 div.sk-estimator input.sk-toggleable__control:checked~label.sk-toggleable__label {background-color: #d4ebff;}#sk-container-id-3 div.sk-label input.sk-toggleable__control:checked~label.sk-toggleable__label {background-color: #d4ebff;}#sk-container-id-3 input.sk-hidden--visually {border: 0;clip: rect(1px 1px 1px 1px);clip: rect(1px, 1px, 1px, 1px);height: 1px;margin: -1px;overflow: hidden;padding: 0;position: absolute;width: 1px;}#sk-container-id-3 div.sk-estimator {font-family: monospace;background-color: #f0f8ff;border: 1px dotted black;border-radius: 0.25em;box-sizing: border-box;margin-bottom: 0.5em;}#sk-container-id-3 div.sk-estimator:hover {background-color: #d4ebff;}#sk-container-id-3 div.sk-parallel-item::after {content: \"\";width: 100%;border-bottom: 1px solid gray;flex-grow: 1;}#sk-container-id-3 div.sk-label:hover label.sk-toggleable__label {background-color: #d4ebff;}#sk-container-id-3 div.sk-serial::before {content: \"\";position: absolute;border-left: 1px solid gray;box-sizing: border-box;top: 0;bottom: 0;left: 50%;z-index: 0;}#sk-container-id-3 div.sk-serial {display: flex;flex-direction: column;align-items: center;background-color: white;padding-right: 0.2em;padding-left: 0.2em;position: relative;}#sk-container-id-3 div.sk-item {position: relative;z-index: 1;}#sk-container-id-3 div.sk-parallel {display: flex;align-items: stretch;justify-content: center;background-color: white;position: relative;}#sk-container-id-3 div.sk-item::before, #sk-container-id-3 div.sk-parallel-item::before {content: \"\";position: absolute;border-left: 1px solid gray;box-sizing: border-box;top: 0;bottom: 0;left: 50%;z-index: -1;}#sk-container-id-3 div.sk-parallel-item {display: flex;flex-direction: column;z-index: 1;position: relative;background-color: white;}#sk-container-id-3 div.sk-parallel-item:first-child::after {align-self: flex-end;width: 50%;}#sk-container-id-3 div.sk-parallel-item:last-child::after {align-self: flex-start;width: 50%;}#sk-container-id-3 div.sk-parallel-item:only-child::after {width: 0;}#sk-container-id-3 div.sk-dashed-wrapped {border: 1px dashed gray;margin: 0 0.4em 0.5em 0.4em;box-sizing: border-box;padding-bottom: 0.4em;background-color: white;}#sk-container-id-3 div.sk-label label {font-family: monospace;font-weight: bold;display: inline-block;line-height: 1.2em;}#sk-container-id-3 div.sk-label-container {text-align: center;}#sk-container-id-3 div.sk-container {/* jupyter's `normalize.less` sets `[hidden] { display: none; }` but bootstrap.min.css set `[hidden] { display: none !important; }` so we also need the `!important` here to be able to override the default hidden behavior on the sphinx rendered scikit-learn.org. See: https://github.com/scikit-learn/scikit-learn/issues/21755 */display: inline-block !important;position: relative;}#sk-container-id-3 div.sk-text-repr-fallback {display: none;}</style><div id=\"sk-container-id-3\" class=\"sk-top-container\"><div class=\"sk-text-repr-fallback\"><pre>RandomForestClassifier(max_depth=5, n_estimators=25)</pre><b>In a Jupyter environment, please rerun this cell to show the HTML representation or trust the notebook. <br />On GitHub, the HTML representation is unable to render, please try loading this page with nbviewer.org.</b></div><div class=\"sk-container\" hidden><div class=\"sk-item\"><div class=\"sk-estimator sk-toggleable\"><input class=\"sk-toggleable__control sk-hidden--visually\" id=\"sk-estimator-id-3\" type=\"checkbox\" checked><label for=\"sk-estimator-id-3\" class=\"sk-toggleable__label sk-toggleable__label-arrow\">RandomForestClassifier</label><div class=\"sk-toggleable__content\"><pre>RandomForestClassifier(max_depth=5, n_estimators=25)</pre></div></div></div></div></div>"
      ],
      "text/plain": [
       "RandomForestClassifier(max_depth=5, n_estimators=25)"
      ]
     },
     "execution_count": 33,
     "metadata": {},
     "output_type": "execute_result"
    }
   ],
   "source": [
    "sk_rf_class.fit(X_train_class, y_train_class)"
   ]
  },
  {
   "cell_type": "code",
   "execution_count": 34,
   "id": "c2278b46-b0af-42f4-b7b3-71a6815684cc",
   "metadata": {
    "tags": []
   },
   "outputs": [
    {
     "name": "stdout",
     "output_type": "stream",
     "text": [
      "Accuacy :  0.9666666666666667\n"
     ]
    }
   ],
   "source": [
    "sk_pred_class = sk_rf_class.predict(X_test_class)\n",
    "print(\"Accuacy : \", accuracy_score(y_test_class ,sk_pred_class))"
   ]
  },
  {
   "cell_type": "markdown",
   "id": "812d7274-9545-4894-9aa4-cb1233806425",
   "metadata": {},
   "source": [
    "# Test Regressor"
   ]
  },
  {
   "cell_type": "code",
   "execution_count": 35,
   "id": "efd9b8e7-1ac7-467a-9183-8f919ad482e1",
   "metadata": {
    "tags": []
   },
   "outputs": [],
   "source": [
    "data = datasets.load_diabetes()\n",
    "X = data[\"data\"]\n",
    "y = data[\"target\"]\n",
    "X_train_reg, X_test_reg, y_train_reg, y_test_reg = train_test_split(X, y, test_size=0.2, random_state=1)"
   ]
  },
  {
   "cell_type": "code",
   "execution_count": 36,
   "id": "921b8e64-f51e-4160-96c6-3ffa1f0fb6b5",
   "metadata": {
    "tags": []
   },
   "outputs": [],
   "source": [
    "custom_rf_regressor = CustomRandomForestRegressor()"
   ]
  },
  {
   "cell_type": "code",
   "execution_count": 37,
   "id": "aee5d7e6-89ce-4567-922a-07f436619d24",
   "metadata": {
    "tags": []
   },
   "outputs": [],
   "source": [
    "custom_rf_regressor.fit(X_train_reg, y_train_reg)"
   ]
  },
  {
   "cell_type": "code",
   "execution_count": 38,
   "id": "adc62a75-024f-4a65-81bd-a71d80fe3221",
   "metadata": {
    "tags": []
   },
   "outputs": [],
   "source": [
    "cutom_pred = custom_rf_regressor.predict(X_test_reg)"
   ]
  },
  {
   "cell_type": "code",
   "execution_count": 39,
   "id": "56502058-b99a-4a55-9ae3-1cd7897d97a7",
   "metadata": {
    "tags": []
   },
   "outputs": [
    {
     "name": "stdout",
     "output_type": "stream",
     "text": [
      "MSE :  3776.1859401759466\n",
      "MAE :  46.636442020695405\n"
     ]
    }
   ],
   "source": [
    "print(\"MSE : \", mean_squared_error(y_test_reg, cutom_pred))\n",
    "print(\"MAE : \", mean_absolute_error(y_test_reg, cutom_pred))"
   ]
  },
  {
   "cell_type": "code",
   "execution_count": 40,
   "id": "c103c0ea-faf2-499e-a895-0c6fd8f76720",
   "metadata": {
    "tags": []
   },
   "outputs": [],
   "source": [
    "sk_rf_reg = RandomForestRegressor(n_estimators=25, min_samples_split=2, max_depth=5)"
   ]
  },
  {
   "cell_type": "code",
   "execution_count": 41,
   "id": "a1e42590-8048-4c40-affe-3d44e9c8c1d3",
   "metadata": {
    "tags": []
   },
   "outputs": [
    {
     "data": {
      "text/html": [
       "<style>#sk-container-id-4 {color: black;background-color: white;}#sk-container-id-4 pre{padding: 0;}#sk-container-id-4 div.sk-toggleable {background-color: white;}#sk-container-id-4 label.sk-toggleable__label {cursor: pointer;display: block;width: 100%;margin-bottom: 0;padding: 0.3em;box-sizing: border-box;text-align: center;}#sk-container-id-4 label.sk-toggleable__label-arrow:before {content: \"▸\";float: left;margin-right: 0.25em;color: #696969;}#sk-container-id-4 label.sk-toggleable__label-arrow:hover:before {color: black;}#sk-container-id-4 div.sk-estimator:hover label.sk-toggleable__label-arrow:before {color: black;}#sk-container-id-4 div.sk-toggleable__content {max-height: 0;max-width: 0;overflow: hidden;text-align: left;background-color: #f0f8ff;}#sk-container-id-4 div.sk-toggleable__content pre {margin: 0.2em;color: black;border-radius: 0.25em;background-color: #f0f8ff;}#sk-container-id-4 input.sk-toggleable__control:checked~div.sk-toggleable__content {max-height: 200px;max-width: 100%;overflow: auto;}#sk-container-id-4 input.sk-toggleable__control:checked~label.sk-toggleable__label-arrow:before {content: \"▾\";}#sk-container-id-4 div.sk-estimator input.sk-toggleable__control:checked~label.sk-toggleable__label {background-color: #d4ebff;}#sk-container-id-4 div.sk-label input.sk-toggleable__control:checked~label.sk-toggleable__label {background-color: #d4ebff;}#sk-container-id-4 input.sk-hidden--visually {border: 0;clip: rect(1px 1px 1px 1px);clip: rect(1px, 1px, 1px, 1px);height: 1px;margin: -1px;overflow: hidden;padding: 0;position: absolute;width: 1px;}#sk-container-id-4 div.sk-estimator {font-family: monospace;background-color: #f0f8ff;border: 1px dotted black;border-radius: 0.25em;box-sizing: border-box;margin-bottom: 0.5em;}#sk-container-id-4 div.sk-estimator:hover {background-color: #d4ebff;}#sk-container-id-4 div.sk-parallel-item::after {content: \"\";width: 100%;border-bottom: 1px solid gray;flex-grow: 1;}#sk-container-id-4 div.sk-label:hover label.sk-toggleable__label {background-color: #d4ebff;}#sk-container-id-4 div.sk-serial::before {content: \"\";position: absolute;border-left: 1px solid gray;box-sizing: border-box;top: 0;bottom: 0;left: 50%;z-index: 0;}#sk-container-id-4 div.sk-serial {display: flex;flex-direction: column;align-items: center;background-color: white;padding-right: 0.2em;padding-left: 0.2em;position: relative;}#sk-container-id-4 div.sk-item {position: relative;z-index: 1;}#sk-container-id-4 div.sk-parallel {display: flex;align-items: stretch;justify-content: center;background-color: white;position: relative;}#sk-container-id-4 div.sk-item::before, #sk-container-id-4 div.sk-parallel-item::before {content: \"\";position: absolute;border-left: 1px solid gray;box-sizing: border-box;top: 0;bottom: 0;left: 50%;z-index: -1;}#sk-container-id-4 div.sk-parallel-item {display: flex;flex-direction: column;z-index: 1;position: relative;background-color: white;}#sk-container-id-4 div.sk-parallel-item:first-child::after {align-self: flex-end;width: 50%;}#sk-container-id-4 div.sk-parallel-item:last-child::after {align-self: flex-start;width: 50%;}#sk-container-id-4 div.sk-parallel-item:only-child::after {width: 0;}#sk-container-id-4 div.sk-dashed-wrapped {border: 1px dashed gray;margin: 0 0.4em 0.5em 0.4em;box-sizing: border-box;padding-bottom: 0.4em;background-color: white;}#sk-container-id-4 div.sk-label label {font-family: monospace;font-weight: bold;display: inline-block;line-height: 1.2em;}#sk-container-id-4 div.sk-label-container {text-align: center;}#sk-container-id-4 div.sk-container {/* jupyter's `normalize.less` sets `[hidden] { display: none; }` but bootstrap.min.css set `[hidden] { display: none !important; }` so we also need the `!important` here to be able to override the default hidden behavior on the sphinx rendered scikit-learn.org. See: https://github.com/scikit-learn/scikit-learn/issues/21755 */display: inline-block !important;position: relative;}#sk-container-id-4 div.sk-text-repr-fallback {display: none;}</style><div id=\"sk-container-id-4\" class=\"sk-top-container\"><div class=\"sk-text-repr-fallback\"><pre>RandomForestRegressor(max_depth=5, n_estimators=25)</pre><b>In a Jupyter environment, please rerun this cell to show the HTML representation or trust the notebook. <br />On GitHub, the HTML representation is unable to render, please try loading this page with nbviewer.org.</b></div><div class=\"sk-container\" hidden><div class=\"sk-item\"><div class=\"sk-estimator sk-toggleable\"><input class=\"sk-toggleable__control sk-hidden--visually\" id=\"sk-estimator-id-4\" type=\"checkbox\" checked><label for=\"sk-estimator-id-4\" class=\"sk-toggleable__label sk-toggleable__label-arrow\">RandomForestRegressor</label><div class=\"sk-toggleable__content\"><pre>RandomForestRegressor(max_depth=5, n_estimators=25)</pre></div></div></div></div></div>"
      ],
      "text/plain": [
       "RandomForestRegressor(max_depth=5, n_estimators=25)"
      ]
     },
     "execution_count": 41,
     "metadata": {},
     "output_type": "execute_result"
    }
   ],
   "source": [
    "sk_rf_reg.fit(X_train_reg, y_train_reg)"
   ]
  },
  {
   "cell_type": "code",
   "execution_count": 42,
   "id": "e30f5e68-6b6c-4fba-ad2a-73d47a309888",
   "metadata": {
    "tags": []
   },
   "outputs": [
    {
     "name": "stdout",
     "output_type": "stream",
     "text": [
      "MSE :  3729.491063219709\n",
      "MAE :  46.62745425565402\n"
     ]
    }
   ],
   "source": [
    "sk_pred_reg = sk_rf_reg.predict(X_test_reg)\n",
    "print(\"MSE : \", mean_squared_error(y_test_reg, sk_pred_reg))\n",
    "print(\"MAE : \", mean_absolute_error(y_test_reg, sk_pred_reg))"
   ]
  }
 ],
 "metadata": {
  "kernelspec": {
   "display_name": "mls_env",
   "language": "python",
   "name": "mls_env"
  },
  "language_info": {
   "codemirror_mode": {
    "name": "ipython",
    "version": 3
   },
   "file_extension": ".py",
   "mimetype": "text/x-python",
   "name": "python",
   "nbconvert_exporter": "python",
   "pygments_lexer": "ipython3",
   "version": "3.10.6"
  }
 },
 "nbformat": 4,
 "nbformat_minor": 5
}
