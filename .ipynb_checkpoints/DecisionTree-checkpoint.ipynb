{
 "cells": [
  {
   "cell_type": "code",
   "execution_count": 1,
   "id": "59a82ed0-be38-4767-90f0-746d5f96623e",
   "metadata": {
    "tags": []
   },
   "outputs": [],
   "source": [
    "from sklearn.tree import DecisionTreeClassifier, DecisionTreeRegressor\n",
    "from sklearn.preprocessing import OrdinalEncoder\n",
    "import pandas as pd\n",
    "import numpy as np"
   ]
  },
  {
   "cell_type": "markdown",
   "id": "33ca1b3c-1860-41c9-8294-a0d9d4de9ce8",
   "metadata": {},
   "source": [
    "# Decision Tree\n",
    "<hr>\n",
    "<br>\n",
    "$Std = \\sqrt{\\dfrac_{n}^{ \\sum ( x - \\myu)^2}}$\n",
    "<br>\n",
    "$\\Myu$"
   ]
  },
  {
   "cell_type": "code",
   "execution_count": null,
   "id": "c193cd49-f040-44b5-9bcc-1425c8ca0eca",
   "metadata": {},
   "outputs": [],
   "source": []
  },
  {
   "cell_type": "code",
   "execution_count": null,
   "id": "4c4d5365-a32b-4236-a648-6836cd4adbad",
   "metadata": {},
   "outputs": [],
   "source": []
  },
  {
   "cell_type": "code",
   "execution_count": 7,
   "id": "4f5123ee-cff6-4feb-b31d-fab629038ea8",
   "metadata": {
    "tags": []
   },
   "outputs": [],
   "source": [
    "def entropy_label(label):\n",
    "    counts = np.bincount(label) # -> [count(0), count(1)]\n",
    "    presents = counts / len(label)\n",
    "    \n",
    "    entropy = 0\n",
    "    for i in presents:\n",
    "        if i > 0:\n",
    "            entropy += i * np.log2(i)\n",
    "    return -entropy    "
   ]
  },
  {
   "cell_type": "code",
   "execution_count": null,
   "id": "db2f6c6f-aa5f-4d06-8921-2040bb6a8f5c",
   "metadata": {},
   "outputs": [],
   "source": [
    "def gain()"
   ]
  },
  {
   "cell_type": "code",
   "execution_count": 8,
   "id": "b1390672-1cd5-48e0-89ff-33698c50aa2c",
   "metadata": {
    "tags": []
   },
   "outputs": [
    {
     "data": {
      "text/plain": [
       "0.9709505944546686"
      ]
     },
     "execution_count": 8,
     "metadata": {},
     "output_type": "execute_result"
    }
   ],
   "source": [
    "arr = np.array([1,0,1,0,1])\n",
    "entropy_label(arr)"
   ]
  },
  {
   "cell_type": "code",
   "execution_count": null,
   "id": "c802b836-7e64-4d34-85af-b40ca29e2c35",
   "metadata": {},
   "outputs": [],
   "source": []
  },
  {
   "cell_type": "markdown",
   "id": "7cef06fc-000a-4e48-bca7-658f80fd91b3",
   "metadata": {},
   "source": [
    "# Decision Tree\n",
    "<hr>\n",
    "<br>\n",
    "\n",
    "**`Entropy`**\n",
    "\n",
    "$E(S) = \\sum_{i=1}^n - p_i log_2 p_i$\n",
    "\n",
    "<hr>\n",
    "<br>\n",
    "\n",
    "**`Information Gain`**\n",
    "<br>\n",
    "$Gain(S,A) = E(S) - \\sum_{(v Values(A))}  \\dfrac{S}{S_v} E(S_v)  $"
   ]
  }
 ],
 "metadata": {
  "kernelspec": {
   "display_name": "ml_env",
   "language": "python",
   "name": "ml_env"
  },
  "language_info": {
   "codemirror_mode": {
    "name": "ipython",
    "version": 3
   },
   "file_extension": ".py",
   "mimetype": "text/x-python",
   "name": "python",
   "nbconvert_exporter": "python",
   "pygments_lexer": "ipython3",
   "version": "3.11.2"
  }
 },
 "nbformat": 4,
 "nbformat_minor": 5
}
