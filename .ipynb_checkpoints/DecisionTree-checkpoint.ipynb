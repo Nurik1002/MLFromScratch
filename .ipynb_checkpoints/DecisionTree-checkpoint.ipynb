{
 "cells": [
  {
   "cell_type": "code",
   "execution_count": 13,
   "id": "59a82ed0-be38-4767-90f0-746d5f96623e",
   "metadata": {
    "tags": []
   },
   "outputs": [],
   "source": [
    "from sklearn.tree import DecisionTreeClassifier, DecisionTreeRegressor\n",
    "from sklearn.preprocessing import OrdinalEncoder\n",
    "import pandas as pd\n",
    "import numpy as np"
   ]
  },
  {
   "cell_type": "markdown",
   "id": "33ca1b3c-1860-41c9-8294-a0d9d4de9ce8",
   "metadata": {},
   "source": [
    "# Decision Tree Regression\n",
    "<hr>\n",
    "<br>\n",
    "\n",
    "**`Standart Devation`**\n",
    "\n",
    "<Br>\n",
    "$Std = \\sqrt{\\dfrac{\\sum{ (x-myu)^2}} {n}}$\n",
    "<br>\n",
    "$myu = \\dfrac{\\sum{x}}{n}$\n",
    "<br>\n",
    "<hr>\n",
    "<br>\n",
    "    \n",
    "**`Standart Devation Reduction`**\n",
    "<br>\n",
    "$SDTR = STD(Label) - STD(Feature, Label)$\n",
    "    "
   ]
  },
  {
   "cell_type": "code",
   "execution_count": 14,
   "id": "c193cd49-f040-44b5-9bcc-1425c8ca0eca",
   "metadata": {},
   "outputs": [
    {
     "data": {
      "text/html": [
       "<div>\n",
       "<style scoped>\n",
       "    .dataframe tbody tr th:only-of-type {\n",
       "        vertical-align: middle;\n",
       "    }\n",
       "\n",
       "    .dataframe tbody tr th {\n",
       "        vertical-align: top;\n",
       "    }\n",
       "\n",
       "    .dataframe thead th {\n",
       "        text-align: right;\n",
       "    }\n",
       "</style>\n",
       "<table border=\"1\" class=\"dataframe\">\n",
       "  <thead>\n",
       "    <tr style=\"text-align: right;\">\n",
       "      <th></th>\n",
       "      <th>Ob-Havo</th>\n",
       "      <th>Temp</th>\n",
       "      <th>Namlik</th>\n",
       "      <th>Shamol</th>\n",
       "      <th>Oyinchilar</th>\n",
       "    </tr>\n",
       "  </thead>\n",
       "  <tbody>\n",
       "    <tr>\n",
       "      <th>0</th>\n",
       "      <td>Yomg'ir</td>\n",
       "      <td>Issiq</td>\n",
       "      <td>Yuqori</td>\n",
       "      <td>False</td>\n",
       "      <td>25</td>\n",
       "    </tr>\n",
       "    <tr>\n",
       "      <th>1</th>\n",
       "      <td>Yomg'ir</td>\n",
       "      <td>Issiq</td>\n",
       "      <td>Yuqori</td>\n",
       "      <td>True</td>\n",
       "      <td>30</td>\n",
       "    </tr>\n",
       "    <tr>\n",
       "      <th>2</th>\n",
       "      <td>Bulutli</td>\n",
       "      <td>Issiq</td>\n",
       "      <td>Yuqori</td>\n",
       "      <td>False</td>\n",
       "      <td>46</td>\n",
       "    </tr>\n",
       "    <tr>\n",
       "      <th>3</th>\n",
       "      <td>Quyoshli</td>\n",
       "      <td>Yaxshi</td>\n",
       "      <td>Yuqori</td>\n",
       "      <td>False</td>\n",
       "      <td>45</td>\n",
       "    </tr>\n",
       "    <tr>\n",
       "      <th>4</th>\n",
       "      <td>Quyoshli</td>\n",
       "      <td>Salqin</td>\n",
       "      <td>Normal</td>\n",
       "      <td>False</td>\n",
       "      <td>52</td>\n",
       "    </tr>\n",
       "    <tr>\n",
       "      <th>5</th>\n",
       "      <td>Quyoshli</td>\n",
       "      <td>Salqin</td>\n",
       "      <td>Normal</td>\n",
       "      <td>True</td>\n",
       "      <td>23</td>\n",
       "    </tr>\n",
       "    <tr>\n",
       "      <th>6</th>\n",
       "      <td>Bulutli</td>\n",
       "      <td>Salqin</td>\n",
       "      <td>Normal</td>\n",
       "      <td>True</td>\n",
       "      <td>43</td>\n",
       "    </tr>\n",
       "    <tr>\n",
       "      <th>7</th>\n",
       "      <td>Yomg'ir</td>\n",
       "      <td>Yaxshi</td>\n",
       "      <td>Yuqori</td>\n",
       "      <td>False</td>\n",
       "      <td>35</td>\n",
       "    </tr>\n",
       "    <tr>\n",
       "      <th>8</th>\n",
       "      <td>Yomg'ir</td>\n",
       "      <td>Salqin</td>\n",
       "      <td>Normal</td>\n",
       "      <td>False</td>\n",
       "      <td>38</td>\n",
       "    </tr>\n",
       "    <tr>\n",
       "      <th>9</th>\n",
       "      <td>Quyoshli</td>\n",
       "      <td>Yaxshi</td>\n",
       "      <td>Normal</td>\n",
       "      <td>False</td>\n",
       "      <td>46</td>\n",
       "    </tr>\n",
       "    <tr>\n",
       "      <th>10</th>\n",
       "      <td>Yomg'ir</td>\n",
       "      <td>Yaxshi</td>\n",
       "      <td>Normal</td>\n",
       "      <td>True</td>\n",
       "      <td>48</td>\n",
       "    </tr>\n",
       "    <tr>\n",
       "      <th>11</th>\n",
       "      <td>Bulutli</td>\n",
       "      <td>Yaxshi</td>\n",
       "      <td>Yuqori</td>\n",
       "      <td>True</td>\n",
       "      <td>52</td>\n",
       "    </tr>\n",
       "    <tr>\n",
       "      <th>12</th>\n",
       "      <td>Bulutli</td>\n",
       "      <td>Issiq</td>\n",
       "      <td>Normal</td>\n",
       "      <td>False</td>\n",
       "      <td>44</td>\n",
       "    </tr>\n",
       "    <tr>\n",
       "      <th>13</th>\n",
       "      <td>Quyoshli</td>\n",
       "      <td>Yaxshi</td>\n",
       "      <td>Yuqori</td>\n",
       "      <td>True</td>\n",
       "      <td>30</td>\n",
       "    </tr>\n",
       "  </tbody>\n",
       "</table>\n",
       "</div>"
      ],
      "text/plain": [
       "     Ob-Havo    Temp  Namlik  Shamol  Oyinchilar\n",
       "0    Yomg'ir   Issiq  Yuqori   False          25\n",
       "1    Yomg'ir   Issiq  Yuqori    True          30\n",
       "2    Bulutli   Issiq  Yuqori   False          46\n",
       "3   Quyoshli  Yaxshi  Yuqori   False          45\n",
       "4   Quyoshli  Salqin  Normal   False          52\n",
       "5   Quyoshli  Salqin  Normal    True          23\n",
       "6    Bulutli  Salqin  Normal    True          43\n",
       "7    Yomg'ir  Yaxshi  Yuqori   False          35\n",
       "8    Yomg'ir  Salqin  Normal   False          38\n",
       "9   Quyoshli  Yaxshi  Normal   False          46\n",
       "10   Yomg'ir  Yaxshi  Normal    True          48\n",
       "11   Bulutli  Yaxshi  Yuqori    True          52\n",
       "12   Bulutli   Issiq  Normal   False          44\n",
       "13  Quyoshli  Yaxshi  Yuqori    True          30"
      ]
     },
     "execution_count": 14,
     "metadata": {},
     "output_type": "execute_result"
    }
   ],
   "source": [
    "data = pd.read_csv(\"Datasets/DTree.csv\")\n",
    "data"
   ]
  },
  {
   "cell_type": "code",
   "execution_count": 15,
   "id": "9be03fd6-4254-4c12-a0ef-6a808329eccb",
   "metadata": {
    "tags": []
   },
   "outputs": [
    {
     "data": {
      "text/plain": [
       "array([[\"Yomg'ir\", 'Issiq', 'Yuqori', False],\n",
       "       [\"Yomg'ir\", 'Issiq', 'Yuqori', True],\n",
       "       ['Bulutli', 'Issiq', 'Yuqori', False],\n",
       "       ['Quyoshli', 'Yaxshi', 'Yuqori', False],\n",
       "       ['Quyoshli', 'Salqin', 'Normal', False],\n",
       "       ['Quyoshli', 'Salqin', 'Normal', True],\n",
       "       ['Bulutli', 'Salqin', 'Normal', True],\n",
       "       [\"Yomg'ir\", 'Yaxshi', 'Yuqori', False],\n",
       "       [\"Yomg'ir\", 'Salqin', 'Normal', False],\n",
       "       ['Quyoshli', 'Yaxshi', 'Normal', False],\n",
       "       [\"Yomg'ir\", 'Yaxshi', 'Normal', True],\n",
       "       ['Bulutli', 'Yaxshi', 'Yuqori', True],\n",
       "       ['Bulutli', 'Issiq', 'Normal', False],\n",
       "       ['Quyoshli', 'Yaxshi', 'Yuqori', True]], dtype=object)"
      ]
     },
     "execution_count": 15,
     "metadata": {},
     "output_type": "execute_result"
    }
   ],
   "source": [
    "feature = data.drop('Oyinchilar', axis=1).to_numpy()\n",
    "feature"
   ]
  },
  {
   "cell_type": "code",
   "execution_count": 16,
   "id": "dfa042e4-9009-4531-b660-e8618080d7ea",
   "metadata": {
    "tags": []
   },
   "outputs": [
    {
     "data": {
      "text/plain": [
       "array([[2., 0., 1., 0.],\n",
       "       [2., 0., 1., 1.],\n",
       "       [0., 0., 1., 0.],\n",
       "       [1., 2., 1., 0.],\n",
       "       [1., 1., 0., 0.],\n",
       "       [1., 1., 0., 1.],\n",
       "       [0., 1., 0., 1.],\n",
       "       [2., 2., 1., 0.],\n",
       "       [2., 1., 0., 0.],\n",
       "       [1., 2., 0., 0.],\n",
       "       [2., 2., 0., 1.],\n",
       "       [0., 2., 1., 1.],\n",
       "       [0., 0., 0., 0.],\n",
       "       [1., 2., 1., 1.]])"
      ]
     },
     "execution_count": 16,
     "metadata": {},
     "output_type": "execute_result"
    }
   ],
   "source": [
    "ordinal = OrdinalEncoder()\n",
    "feature = ordinal.fit_transform(feature)\n",
    "feature"
   ]
  },
  {
   "cell_type": "code",
   "execution_count": 32,
   "id": "4c4d5365-a32b-4236-a648-6836cd4adbad",
   "metadata": {},
   "outputs": [
    {
     "data": {
      "text/plain": [
       "array([25, 30, 46, 45, 52, 23, 43, 35, 38, 46, 48, 52, 44, 30])"
      ]
     },
     "execution_count": 32,
     "metadata": {},
     "output_type": "execute_result"
    }
   ],
   "source": [
    "target = data['Oyinchilar'].to_numpy()\n",
    "target"
   ]
  },
  {
   "cell_type": "code",
   "execution_count": 24,
   "id": "f126462a-4902-413d-98df-a7bd17ab30b9",
   "metadata": {
    "tags": []
   },
   "outputs": [
    {
     "data": {
      "text/html": [
       "<div>\n",
       "<style scoped>\n",
       "    .dataframe tbody tr th:only-of-type {\n",
       "        vertical-align: middle;\n",
       "    }\n",
       "\n",
       "    .dataframe tbody tr th {\n",
       "        vertical-align: top;\n",
       "    }\n",
       "\n",
       "    .dataframe thead th {\n",
       "        text-align: right;\n",
       "    }\n",
       "</style>\n",
       "<table border=\"1\" class=\"dataframe\">\n",
       "  <thead>\n",
       "    <tr style=\"text-align: right;\">\n",
       "      <th></th>\n",
       "      <th>Std</th>\n",
       "      <th>Soni</th>\n",
       "    </tr>\n",
       "    <tr>\n",
       "      <th>Ob-Havo</th>\n",
       "      <th></th>\n",
       "      <th></th>\n",
       "    </tr>\n",
       "  </thead>\n",
       "  <tbody>\n",
       "    <tr>\n",
       "      <th>Bulutli</th>\n",
       "      <td>3.491060</td>\n",
       "      <td>4</td>\n",
       "    </tr>\n",
       "    <tr>\n",
       "      <th>Yomg'ir</th>\n",
       "      <td>7.782031</td>\n",
       "      <td>5</td>\n",
       "    </tr>\n",
       "    <tr>\n",
       "      <th>Quyoshli</th>\n",
       "      <td>10.870143</td>\n",
       "      <td>5</td>\n",
       "    </tr>\n",
       "  </tbody>\n",
       "</table>\n",
       "</div>"
      ],
      "text/plain": [
       "                Std  Soni\n",
       "Ob-Havo                  \n",
       "Bulutli    3.491060     4\n",
       "Yomg'ir    7.782031     5\n",
       "Quyoshli  10.870143     5"
      ]
     },
     "execution_count": 24,
     "metadata": {},
     "output_type": "execute_result"
    }
   ],
   "source": [
    "obhavo = data.groupby(\"Ob-Havo\").agg(Std = (\"Oyinchilar\", lambda x: x.std(ddof=0)), Soni = (\"Oyinchilar\", np.count_nonzero)).sort_values(\"Std\")\n",
    "obhavo"
   ]
  },
  {
   "cell_type": "code",
   "execution_count": 26,
   "id": "f4b3af8b-80ec-4d0b-8b0e-768e1ca3f496",
   "metadata": {
    "tags": []
   },
   "outputs": [
    {
     "data": {
      "text/html": [
       "<div>\n",
       "<style scoped>\n",
       "    .dataframe tbody tr th:only-of-type {\n",
       "        vertical-align: middle;\n",
       "    }\n",
       "\n",
       "    .dataframe tbody tr th {\n",
       "        vertical-align: top;\n",
       "    }\n",
       "\n",
       "    .dataframe thead th {\n",
       "        text-align: right;\n",
       "    }\n",
       "</style>\n",
       "<table border=\"1\" class=\"dataframe\">\n",
       "  <thead>\n",
       "    <tr style=\"text-align: right;\">\n",
       "      <th></th>\n",
       "      <th>Std</th>\n",
       "      <th>Soni</th>\n",
       "    </tr>\n",
       "    <tr>\n",
       "      <th>Namlik</th>\n",
       "      <th></th>\n",
       "      <th></th>\n",
       "    </tr>\n",
       "  </thead>\n",
       "  <tbody>\n",
       "    <tr>\n",
       "      <th>Normal</th>\n",
       "      <td>8.734169</td>\n",
       "      <td>7</td>\n",
       "    </tr>\n",
       "    <tr>\n",
       "      <th>Yuqori</th>\n",
       "      <td>9.363411</td>\n",
       "      <td>7</td>\n",
       "    </tr>\n",
       "  </tbody>\n",
       "</table>\n",
       "</div>"
      ],
      "text/plain": [
       "             Std  Soni\n",
       "Namlik                \n",
       "Normal  8.734169     7\n",
       "Yuqori  9.363411     7"
      ]
     },
     "execution_count": 26,
     "metadata": {},
     "output_type": "execute_result"
    }
   ],
   "source": [
    "namlik = data.groupby(\"Namlik\").agg(Std = (\"Oyinchilar\", lambda x : x.std(ddof=0)), Soni = (\"Oyinchilar\", np.count_nonzero)).sort_values(\"Std\")\n",
    "namlik"
   ]
  },
  {
   "cell_type": "code",
   "execution_count": 27,
   "id": "b8e6fbff-f5ec-4a3e-835e-8632d94bc156",
   "metadata": {
    "tags": []
   },
   "outputs": [
    {
     "data": {
      "text/html": [
       "<div>\n",
       "<style scoped>\n",
       "    .dataframe tbody tr th:only-of-type {\n",
       "        vertical-align: middle;\n",
       "    }\n",
       "\n",
       "    .dataframe tbody tr th {\n",
       "        vertical-align: top;\n",
       "    }\n",
       "\n",
       "    .dataframe thead th {\n",
       "        text-align: right;\n",
       "    }\n",
       "</style>\n",
       "<table border=\"1\" class=\"dataframe\">\n",
       "  <thead>\n",
       "    <tr style=\"text-align: right;\">\n",
       "      <th></th>\n",
       "      <th>Std</th>\n",
       "      <th>Soni</th>\n",
       "    </tr>\n",
       "    <tr>\n",
       "      <th>Temp</th>\n",
       "      <th></th>\n",
       "      <th></th>\n",
       "    </tr>\n",
       "  </thead>\n",
       "  <tbody>\n",
       "    <tr>\n",
       "      <th>Yaxshi</th>\n",
       "      <td>7.652160</td>\n",
       "      <td>6</td>\n",
       "    </tr>\n",
       "    <tr>\n",
       "      <th>Issiq</th>\n",
       "      <td>8.954747</td>\n",
       "      <td>4</td>\n",
       "    </tr>\n",
       "    <tr>\n",
       "      <th>Salqin</th>\n",
       "      <td>10.511898</td>\n",
       "      <td>4</td>\n",
       "    </tr>\n",
       "  </tbody>\n",
       "</table>\n",
       "</div>"
      ],
      "text/plain": [
       "              Std  Soni\n",
       "Temp                   \n",
       "Yaxshi   7.652160     6\n",
       "Issiq    8.954747     4\n",
       "Salqin  10.511898     4"
      ]
     },
     "execution_count": 27,
     "metadata": {},
     "output_type": "execute_result"
    }
   ],
   "source": [
    "temp = data.groupby(\"Temp\").agg(Std = (\"Oyinchilar\", lambda x: x.std(ddof=0)), Soni = (\"Oyinchilar\", np.count_nonzero)).sort_values(\"Std\")\n",
    "temp"
   ]
  },
  {
   "cell_type": "code",
   "execution_count": 31,
   "id": "d7889b33-3529-49e3-8c74-f2f7fd2bd850",
   "metadata": {
    "tags": []
   },
   "outputs": [
    {
     "data": {
      "text/html": [
       "<div>\n",
       "<style scoped>\n",
       "    .dataframe tbody tr th:only-of-type {\n",
       "        vertical-align: middle;\n",
       "    }\n",
       "\n",
       "    .dataframe tbody tr th {\n",
       "        vertical-align: top;\n",
       "    }\n",
       "\n",
       "    .dataframe thead th {\n",
       "        text-align: right;\n",
       "    }\n",
       "</style>\n",
       "<table border=\"1\" class=\"dataframe\">\n",
       "  <thead>\n",
       "    <tr style=\"text-align: right;\">\n",
       "      <th></th>\n",
       "      <th>Std</th>\n",
       "      <th>Soni</th>\n",
       "    </tr>\n",
       "    <tr>\n",
       "      <th>Shamol</th>\n",
       "      <th></th>\n",
       "      <th></th>\n",
       "    </tr>\n",
       "  </thead>\n",
       "  <tbody>\n",
       "    <tr>\n",
       "      <th>False</th>\n",
       "      <td>7.873016</td>\n",
       "      <td>8</td>\n",
       "    </tr>\n",
       "    <tr>\n",
       "      <th>True</th>\n",
       "      <td>10.593499</td>\n",
       "      <td>6</td>\n",
       "    </tr>\n",
       "  </tbody>\n",
       "</table>\n",
       "</div>"
      ],
      "text/plain": [
       "              Std  Soni\n",
       "Shamol                 \n",
       "False    7.873016     8\n",
       "True    10.593499     6"
      ]
     },
     "execution_count": 31,
     "metadata": {},
     "output_type": "execute_result"
    }
   ],
   "source": [
    "shamol = data.groupby(\"Shamol\").agg(Std = (\"Oyinchilar\", lambda x: x.std(ddof=0)), Soni = (\"Oyinchilar\", np.count_nonzero)).sort_values(\"Std\")\n",
    "shamol"
   ]
  },
  {
   "cell_type": "code",
   "execution_count": 35,
   "id": "b6c50ff4-dd52-4402-b2f7-e2af405e583d",
   "metadata": {
    "tags": []
   },
   "outputs": [
    {
     "data": {
      "text/plain": [
       "1.6621503366302335"
      ]
     },
     "execution_count": 35,
     "metadata": {},
     "output_type": "execute_result"
    }
   ],
   "source": [
    "stdr_obhavo = target.std() - np.dot(obhavo[\"Soni\"]/14, obhavo[\"Std\"])\n",
    "stdr_obhavo"
   ]
  },
  {
   "cell_type": "code",
   "execution_count": 37,
   "id": "4bd72730-1538-4285-8322-de3377c170dc",
   "metadata": {
    "tags": []
   },
   "outputs": [
    {
     "data": {
      "text/plain": [
       "0.4796905747633211"
      ]
     },
     "execution_count": 37,
     "metadata": {},
     "output_type": "execute_result"
    }
   ],
   "source": [
    "stdr_temp = target.std() - np.dot(temp[\"Soni\"]/14, temp[\"Std\"])\n",
    "stdr_temp"
   ]
  },
  {
   "cell_type": "code",
   "execution_count": 38,
   "id": "bc5d7be0-9560-4e1e-9dd5-dcb4b82bc009",
   "metadata": {
    "tags": []
   },
   "outputs": [
    {
     "data": {
      "text/plain": [
       "0.28214938055733185"
      ]
     },
     "execution_count": 38,
     "metadata": {},
     "output_type": "execute_result"
    }
   ],
   "source": [
    "stdr_shamol = target.std() - np.dot(shamol[\"Soni\"]/14, shamol[\"Std\"])\n",
    "stdr_shamol "
   ]
  },
  {
   "cell_type": "code",
   "execution_count": 39,
   "id": "a7a0f750-1cf1-4efc-b887-66ce7b80ea78",
   "metadata": {
    "tags": []
   },
   "outputs": [
    {
     "data": {
      "text/plain": [
       "0.272296195489826"
      ]
     },
     "execution_count": 39,
     "metadata": {},
     "output_type": "execute_result"
    }
   ],
   "source": [
    "stdr_namlik = target.std() -  np.dot(namlik['Soni']/14, namlik['Std'])\n",
    "stdr_namlik"
   ]
  },
  {
   "cell_type": "code",
   "execution_count": null,
   "id": "52b4cdf1-2a5d-4154-a7cb-195505bef8e3",
   "metadata": {},
   "outputs": [],
   "source": []
  },
  {
   "cell_type": "markdown",
   "id": "7cef06fc-000a-4e48-bca7-658f80fd91b3",
   "metadata": {},
   "source": [
    "# Decision Tree Classification\n",
    "<hr>\n",
    "<br>\n",
    "\n",
    "**`Entropy`**\n",
    "\n",
    "$E(S) = \\sum_{i=1}^n - p_i log_2 p_i$\n",
    "\n",
    "<hr>\n",
    "<br>\n",
    "\n",
    "**`Information Gain`**\n",
    "<br>\n",
    "$Gain(S,A) = E(S) - \\sum_{(v Values(A))}  \\dfrac{S}{S_v} E(S_v)  $"
   ]
  },
  {
   "cell_type": "code",
   "execution_count": 7,
   "id": "4f5123ee-cff6-4feb-b31d-fab629038ea8",
   "metadata": {
    "tags": []
   },
   "outputs": [],
   "source": [
    "def entropy_label(label):\n",
    "    counts = np.bincount(label) # -> [count(0), count(1)]\n",
    "    presents = counts / len(label)\n",
    "    \n",
    "    entropy = 0\n",
    "    for i in presents:\n",
    "        if i > 0:\n",
    "            entropy += i * np.log2(i)\n",
    "    return -entropy    "
   ]
  },
  {
   "cell_type": "code",
   "execution_count": null,
   "id": "db2f6c6f-aa5f-4d06-8921-2040bb6a8f5c",
   "metadata": {},
   "outputs": [],
   "source": [
    "def gain()"
   ]
  }
 ],
 "metadata": {
  "kernelspec": {
   "display_name": "ml_env",
   "language": "python",
   "name": "ml_env"
  },
  "language_info": {
   "codemirror_mode": {
    "name": "ipython",
    "version": 3
   },
   "file_extension": ".py",
   "mimetype": "text/x-python",
   "name": "python",
   "nbconvert_exporter": "python",
   "pygments_lexer": "ipython3",
   "version": "3.11.2"
  }
 },
 "nbformat": 4,
 "nbformat_minor": 5
}
