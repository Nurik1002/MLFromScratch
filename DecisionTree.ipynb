{
 "cells": [
  {
   "cell_type": "markdown",
   "id": "33ca1b3c-1860-41c9-8294-a0d9d4de9ce8",
   "metadata": {},
   "source": [
    "# Decision Tree Regression\n",
    "<hr>\n",
    "<br>\n",
    "\n",
    "**`Standart Devation`**\n",
    "\n",
    "<Br>\n",
    "$Std = \\sqrt{\\dfrac{\\sum{ (x-myu)^2}} {n}}$\n",
    "<br>\n",
    "    <br>\n",
    "$myu = \\dfrac{\\sum{x}}{n}$\n",
    "<br>\n",
    "<hr>\n",
    "<br>\n",
    "    \n",
    "**`Standart Devation Reduction`**\n",
    "<br>\n",
    "<br>\n",
    "$SDTR = STD(Label) - STD(Feature, Label)$\n",
    "    "
   ]
  },
  {
   "cell_type": "code",
   "execution_count": 1,
   "id": "59a82ed0-be38-4767-90f0-746d5f96623e",
   "metadata": {
    "tags": []
   },
   "outputs": [],
   "source": [
    "from sklearn.tree import DecisionTreeClassifier, DecisionTreeRegressor\n",
    "from sklearn.preprocessing import OrdinalEncoder\n",
    "import pandas as pd\n",
    "import numpy as np\n",
    "from collections import Counter"
   ]
  },
  {
   "cell_type": "code",
   "execution_count": 2,
   "id": "c193cd49-f040-44b5-9bcc-1425c8ca0eca",
   "metadata": {},
   "outputs": [
    {
     "data": {
      "text/html": [
       "<div>\n",
       "<style scoped>\n",
       "    .dataframe tbody tr th:only-of-type {\n",
       "        vertical-align: middle;\n",
       "    }\n",
       "\n",
       "    .dataframe tbody tr th {\n",
       "        vertical-align: top;\n",
       "    }\n",
       "\n",
       "    .dataframe thead th {\n",
       "        text-align: right;\n",
       "    }\n",
       "</style>\n",
       "<table border=\"1\" class=\"dataframe\">\n",
       "  <thead>\n",
       "    <tr style=\"text-align: right;\">\n",
       "      <th></th>\n",
       "      <th>Ob-Havo</th>\n",
       "      <th>Temp</th>\n",
       "      <th>Namlik</th>\n",
       "      <th>Shamol</th>\n",
       "      <th>Oyinchilar</th>\n",
       "    </tr>\n",
       "  </thead>\n",
       "  <tbody>\n",
       "    <tr>\n",
       "      <th>0</th>\n",
       "      <td>Yomg'ir</td>\n",
       "      <td>Issiq</td>\n",
       "      <td>Yuqori</td>\n",
       "      <td>False</td>\n",
       "      <td>25</td>\n",
       "    </tr>\n",
       "    <tr>\n",
       "      <th>1</th>\n",
       "      <td>Yomg'ir</td>\n",
       "      <td>Issiq</td>\n",
       "      <td>Yuqori</td>\n",
       "      <td>True</td>\n",
       "      <td>30</td>\n",
       "    </tr>\n",
       "    <tr>\n",
       "      <th>2</th>\n",
       "      <td>Bulutli</td>\n",
       "      <td>Issiq</td>\n",
       "      <td>Yuqori</td>\n",
       "      <td>False</td>\n",
       "      <td>46</td>\n",
       "    </tr>\n",
       "    <tr>\n",
       "      <th>3</th>\n",
       "      <td>Quyoshli</td>\n",
       "      <td>Yaxshi</td>\n",
       "      <td>Yuqori</td>\n",
       "      <td>False</td>\n",
       "      <td>45</td>\n",
       "    </tr>\n",
       "    <tr>\n",
       "      <th>4</th>\n",
       "      <td>Quyoshli</td>\n",
       "      <td>Salqin</td>\n",
       "      <td>Normal</td>\n",
       "      <td>False</td>\n",
       "      <td>52</td>\n",
       "    </tr>\n",
       "    <tr>\n",
       "      <th>5</th>\n",
       "      <td>Quyoshli</td>\n",
       "      <td>Salqin</td>\n",
       "      <td>Normal</td>\n",
       "      <td>True</td>\n",
       "      <td>23</td>\n",
       "    </tr>\n",
       "    <tr>\n",
       "      <th>6</th>\n",
       "      <td>Bulutli</td>\n",
       "      <td>Salqin</td>\n",
       "      <td>Normal</td>\n",
       "      <td>True</td>\n",
       "      <td>43</td>\n",
       "    </tr>\n",
       "    <tr>\n",
       "      <th>7</th>\n",
       "      <td>Yomg'ir</td>\n",
       "      <td>Yaxshi</td>\n",
       "      <td>Yuqori</td>\n",
       "      <td>False</td>\n",
       "      <td>35</td>\n",
       "    </tr>\n",
       "    <tr>\n",
       "      <th>8</th>\n",
       "      <td>Yomg'ir</td>\n",
       "      <td>Salqin</td>\n",
       "      <td>Normal</td>\n",
       "      <td>False</td>\n",
       "      <td>38</td>\n",
       "    </tr>\n",
       "    <tr>\n",
       "      <th>9</th>\n",
       "      <td>Quyoshli</td>\n",
       "      <td>Yaxshi</td>\n",
       "      <td>Normal</td>\n",
       "      <td>False</td>\n",
       "      <td>46</td>\n",
       "    </tr>\n",
       "    <tr>\n",
       "      <th>10</th>\n",
       "      <td>Yomg'ir</td>\n",
       "      <td>Yaxshi</td>\n",
       "      <td>Normal</td>\n",
       "      <td>True</td>\n",
       "      <td>48</td>\n",
       "    </tr>\n",
       "    <tr>\n",
       "      <th>11</th>\n",
       "      <td>Bulutli</td>\n",
       "      <td>Yaxshi</td>\n",
       "      <td>Yuqori</td>\n",
       "      <td>True</td>\n",
       "      <td>52</td>\n",
       "    </tr>\n",
       "    <tr>\n",
       "      <th>12</th>\n",
       "      <td>Bulutli</td>\n",
       "      <td>Issiq</td>\n",
       "      <td>Normal</td>\n",
       "      <td>False</td>\n",
       "      <td>44</td>\n",
       "    </tr>\n",
       "    <tr>\n",
       "      <th>13</th>\n",
       "      <td>Quyoshli</td>\n",
       "      <td>Yaxshi</td>\n",
       "      <td>Yuqori</td>\n",
       "      <td>True</td>\n",
       "      <td>30</td>\n",
       "    </tr>\n",
       "  </tbody>\n",
       "</table>\n",
       "</div>"
      ],
      "text/plain": [
       "     Ob-Havo    Temp  Namlik  Shamol  Oyinchilar\n",
       "0    Yomg'ir   Issiq  Yuqori   False          25\n",
       "1    Yomg'ir   Issiq  Yuqori    True          30\n",
       "2    Bulutli   Issiq  Yuqori   False          46\n",
       "3   Quyoshli  Yaxshi  Yuqori   False          45\n",
       "4   Quyoshli  Salqin  Normal   False          52\n",
       "5   Quyoshli  Salqin  Normal    True          23\n",
       "6    Bulutli  Salqin  Normal    True          43\n",
       "7    Yomg'ir  Yaxshi  Yuqori   False          35\n",
       "8    Yomg'ir  Salqin  Normal   False          38\n",
       "9   Quyoshli  Yaxshi  Normal   False          46\n",
       "10   Yomg'ir  Yaxshi  Normal    True          48\n",
       "11   Bulutli  Yaxshi  Yuqori    True          52\n",
       "12   Bulutli   Issiq  Normal   False          44\n",
       "13  Quyoshli  Yaxshi  Yuqori    True          30"
      ]
     },
     "execution_count": 2,
     "metadata": {},
     "output_type": "execute_result"
    }
   ],
   "source": [
    "data = pd.read_csv(\"Datasets/DTree.csv\")\n",
    "data"
   ]
  },
  {
   "cell_type": "code",
   "execution_count": 3,
   "id": "ce7a0a90-7f4f-4855-bd57-0a469d2957af",
   "metadata": {
    "tags": []
   },
   "outputs": [],
   "source": [
    "def std(arr):\n",
    "    myu = arr.mean()\n",
    "    return np.sqrt(np.sum(np.square(arr - myu))/ len(arr))"
   ]
  },
  {
   "cell_type": "code",
   "execution_count": 4,
   "id": "03dcb61a-0ea0-4c7e-9012-73dc5883620b",
   "metadata": {
    "tags": []
   },
   "outputs": [
    {
     "data": {
      "text/plain": [
       "9.321086474291743"
      ]
     },
     "execution_count": 4,
     "metadata": {},
     "output_type": "execute_result"
    }
   ],
   "source": [
    "std(data['Oyinchilar'].values)"
   ]
  },
  {
   "cell_type": "code",
   "execution_count": 9,
   "id": "58dc7543-d3a5-4710-85a1-de9719dea9f5",
   "metadata": {
    "tags": []
   },
   "outputs": [],
   "source": [
    "def stdr(arr1,arr2):\n",
    "    std_arr = std(arr2)\n",
    "    uniq = np.unique(arr1)\n",
    "    list_stdr = list()\n",
    "    for i in uniq:\n",
    "        label = arr2[arr1==i]\n",
    "        print(i,\":\", std(label), \"\\t\",len(label))\n",
    "        list_stdr.append([len(label), std(label)])\n",
    "    list_stdr = np.array(list_stdr).T\n",
    "    \n",
    "    return std_arr - np.dot(list_stdr[0]/len(arr1), list_stdr[1])\n",
    "    \n"
   ]
  },
  {
   "cell_type": "code",
   "execution_count": 10,
   "id": "3a8aee11-533c-42be-ae45-7460b4380deb",
   "metadata": {
    "tags": []
   },
   "outputs": [
    {
     "name": "stdout",
     "output_type": "stream",
     "text": [
      "Bulutli : 3.491060010942235 \t 4\n",
      "Quyoshli : 10.870142593360953 \t 5\n",
      "Yomg'ir : 7.782030583337487 \t 5\n",
      "STDR(Ob-havo) :  1.6621503366302326\n"
     ]
    }
   ],
   "source": [
    "obhavo = stdr(data['Ob-Havo'].values, data['Oyinchilar'].values)\n",
    "print(\"STDR(Ob-havo) : \", obhavo)"
   ]
  },
  {
   "cell_type": "code",
   "execution_count": 11,
   "id": "9be03fd6-4254-4c12-a0ef-6a808329eccb",
   "metadata": {
    "tags": []
   },
   "outputs": [
    {
     "name": "stdout",
     "output_type": "stream",
     "text": [
      "Issiq : 8.954747344286158 \t 4\n",
      "Salqin : 10.51189802081432 \t 4\n",
      "Yaxshi : 7.6521601888326645 \t 6\n",
      "STDR(Temp) :  0.4796905747633211\n"
     ]
    }
   ],
   "source": [
    "temp = stdr(data['Temp'].values, data['Oyinchilar'].values)\n",
    "print(\"STDR(Temp) : \", temp)"
   ]
  },
  {
   "cell_type": "code",
   "execution_count": 12,
   "id": "4bc5e4e7-0a01-447e-bb89-24bca9eb2a6f",
   "metadata": {
    "tags": []
   },
   "outputs": [
    {
     "name": "stdout",
     "output_type": "stream",
     "text": [
      "Normal : 8.734169352933014 \t 7\n",
      "Yuqori : 9.363411204670822 \t 7\n",
      "STDR(Namlik) :  0.272296195489826\n"
     ]
    }
   ],
   "source": [
    "namlik = stdr(data['Namlik'].values, data['Oyinchilar'].values)\n",
    "print(\"STDR(Namlik) : \", namlik)"
   ]
  },
  {
   "cell_type": "code",
   "execution_count": 13,
   "id": "a4afa2c1-bf26-4be6-a11b-11f7dc1f3a50",
   "metadata": {
    "tags": []
   },
   "outputs": [
    {
     "name": "stdout",
     "output_type": "stream",
     "text": [
      "False : 7.873015622999868 \t 8\n",
      "True : 10.593499054713803 \t 6\n",
      "STDR(Shamol) :  0.4796905747633211\n"
     ]
    }
   ],
   "source": [
    "shamol = stdr(data['Shamol'].values, data['Oyinchilar'].values)\n",
    "print(\"STDR(Shamol) : \", temp)"
   ]
  },
  {
   "cell_type": "code",
   "execution_count": 18,
   "id": "f255b8f0-71aa-4439-85da-cbdbd467ec9e",
   "metadata": {
    "tags": []
   },
   "outputs": [],
   "source": [
    "from sklearn.tree import DecisionTreeRegressor, plot_tree"
   ]
  },
  {
   "cell_type": "markdown",
   "id": "7cef06fc-000a-4e48-bca7-658f80fd91b3",
   "metadata": {},
   "source": [
    "# Decision Tree Classification\n",
    "<hr>\n",
    "<br>\n",
    "\n",
    "**`Entropy`**\n",
    "\n",
    "$E(S) = \\sum_{i=1}^n - p_i log_2 p_i$\n",
    "\n",
    "<hr>\n",
    "<br>\n",
    "\n",
    "**`Information Gain`**\n",
    "<br>\n",
    "$Gain(S,A) = E(S) - \\sum_{(v Values(A))}  \\dfrac{S}{S_v} E(S_v)  $\n",
    "\n",
    "<hr>\n",
    "<br>\n",
    "\n",
    "**`Gini Index`**\n",
    "\n",
    "$Gini = 1 - \\sum_{i=1}^j p_i^2$\n"
   ]
  },
  {
   "cell_type": "code",
   "execution_count": 19,
   "id": "b33ef72c-b15f-4079-8c1a-e64ca3de9d4a",
   "metadata": {
    "tags": []
   },
   "outputs": [],
   "source": [
    "data = pd.read_csv(\"Datasets/DTree.csv\")\n",
    "data\n",
    "arr = np.array([1,1,1,1,1,0,1,0,0,1,1,0,0,0])\n",
    "data['Oyinchilar'] = arr"
   ]
  },
  {
   "cell_type": "code",
   "execution_count": 20,
   "id": "b16e1ac1-1e8c-42f7-96fa-d3453f21d9a1",
   "metadata": {
    "tags": []
   },
   "outputs": [],
   "source": [
    "def compute_impurity(feature, criteria=\"entropy\"):\n",
    "    \"\"\"\n",
    "    Supported impurity criteria: \"entropy\", \"gini\"\n",
    "    \"\"\"\n",
    "    probs = np.unique(feature, return_counts=True)[1] \n",
    "    probs = probs / len(feature)\n",
    "    \n",
    "    if criteria==\"entropy\":\n",
    "        return -1 * np.sum(np.log2(probs) * probs )\n",
    "    \n",
    "    elif criteria==\"gini\":\n",
    "        \n",
    "        return 1 - np.sum(np.square(probs))\n",
    "    \n",
    "    else:\n",
    "        raise ValueError(\"Unkown criteria\")"
   ]
  },
  {
   "cell_type": "code",
   "execution_count": 21,
   "id": "3bdc5825-d616-4a64-91f6-17c3d29e92d9",
   "metadata": {
    "tags": []
   },
   "outputs": [
    {
     "data": {
      "text/plain": [
       "0.9852281360342515"
      ]
     },
     "execution_count": 21,
     "metadata": {},
     "output_type": "execute_result"
    }
   ],
   "source": [
    "compute_impurity(arr)"
   ]
  },
  {
   "cell_type": "code",
   "execution_count": 22,
   "id": "a6e5c717-4125-4dd8-9614-35c955c7710b",
   "metadata": {
    "tags": []
   },
   "outputs": [],
   "source": [
    "def information_gain(data, target,  split_criterion=\"entropy\"):\n",
    "    entropy_list = list()\n",
    "    weight_list = list()\n",
    "    target_entropy = compute_impurity(target, split_criterion)   \n",
    "    for i in np.unique(data):\n",
    "        \n",
    "        label = target[data == i]\n",
    "        \n",
    "        \n",
    "        entropy = compute_impurity(feature=label,  criteria=split_criterion)\n",
    "        \n",
    "        \n",
    "        entropy_list.append( entropy )\n",
    "        weight_list.append(len(label)/len(data))\n",
    "   \n",
    "    information_gain = target_entropy - np.sum(np.array(entropy_list) * weight_list)\n",
    "    return information_gain\n",
    "        "
   ]
  },
  {
   "cell_type": "code",
   "execution_count": 23,
   "id": "b7c6ea22-bbb9-4f14-b900-64c57c37b47c",
   "metadata": {
    "tags": []
   },
   "outputs": [
    {
     "data": {
      "text/plain": [
       "0.0059777114237740125"
      ]
     },
     "execution_count": 23,
     "metadata": {},
     "output_type": "execute_result"
    }
   ],
   "source": [
    "information_gain(data['Ob-Havo'].values, data['Oyinchilar'].values,  split_criterion=\"entropy\")"
   ]
  },
  {
   "cell_type": "code",
   "execution_count": 24,
   "id": "7757c4ba-3509-41cb-b93a-8beb4cb66a2d",
   "metadata": {
    "tags": []
   },
   "outputs": [
    {
     "data": {
      "text/plain": [
       "0.03914867190307081"
      ]
     },
     "execution_count": 24,
     "metadata": {},
     "output_type": "execute_result"
    }
   ],
   "source": [
    "information_gain(data['Temp'].values, data['Oyinchilar'].values,  split_criterion=\"entropy\")"
   ]
  },
  {
   "cell_type": "code",
   "execution_count": 25,
   "id": "3fff4242-6cc9-43fe-a3ba-50a74be21c47",
   "metadata": {
    "tags": []
   },
   "outputs": [
    {
     "data": {
      "text/plain": [
       "0.0"
      ]
     },
     "execution_count": 25,
     "metadata": {},
     "output_type": "execute_result"
    }
   ],
   "source": [
    "information_gain(data['Namlik'].values, data['Oyinchilar'].values,  split_criterion=\"entropy\")"
   ]
  },
  {
   "cell_type": "code",
   "execution_count": 26,
   "id": "7a7f8781-dce1-4889-8610-cd9b277c644f",
   "metadata": {
    "tags": []
   },
   "outputs": [
    {
     "data": {
      "text/plain": [
       "0.011265848648557175"
      ]
     },
     "execution_count": 26,
     "metadata": {},
     "output_type": "execute_result"
    }
   ],
   "source": [
    "information_gain(data['Shamol'].values, data['Oyinchilar'].values,  split_criterion=\"entropy\")"
   ]
  },
  {
   "cell_type": "code",
   "execution_count": 27,
   "id": "70184ea3-a61c-41ee-99c4-b36084147afb",
   "metadata": {
    "tags": []
   },
   "outputs": [
    {
     "data": {
      "text/plain": [
       "array([[\"Yomg'ir\", 'Issiq', 'Yuqori', False],\n",
       "       [\"Yomg'ir\", 'Issiq', 'Yuqori', True],\n",
       "       ['Bulutli', 'Issiq', 'Yuqori', False],\n",
       "       ['Quyoshli', 'Yaxshi', 'Yuqori', False],\n",
       "       ['Quyoshli', 'Salqin', 'Normal', False],\n",
       "       ['Quyoshli', 'Salqin', 'Normal', True],\n",
       "       ['Bulutli', 'Salqin', 'Normal', True],\n",
       "       [\"Yomg'ir\", 'Yaxshi', 'Yuqori', False],\n",
       "       [\"Yomg'ir\", 'Salqin', 'Normal', False],\n",
       "       ['Quyoshli', 'Yaxshi', 'Normal', False],\n",
       "       [\"Yomg'ir\", 'Yaxshi', 'Normal', True],\n",
       "       ['Bulutli', 'Yaxshi', 'Yuqori', True],\n",
       "       ['Bulutli', 'Issiq', 'Normal', False],\n",
       "       ['Quyoshli', 'Yaxshi', 'Yuqori', True]], dtype=object)"
      ]
     },
     "execution_count": 27,
     "metadata": {},
     "output_type": "execute_result"
    }
   ],
   "source": [
    "X = data.drop('Oyinchilar', axis=1).values\n",
    "X"
   ]
  },
  {
   "cell_type": "code",
   "execution_count": 45,
   "id": "d8ffed90-88ec-47b8-aca6-8846f8e8bdcf",
   "metadata": {
    "tags": []
   },
   "outputs": [],
   "source": [
    "ordinal = OrdinalEncoder()"
   ]
  },
  {
   "cell_type": "code",
   "execution_count": 46,
   "id": "051cbed0-1676-4e47-8e23-7f7292f9a025",
   "metadata": {
    "tags": []
   },
   "outputs": [],
   "source": [
    "X = ordinal.fit_transform(X)"
   ]
  },
  {
   "cell_type": "code",
   "execution_count": 47,
   "id": "4c908579-9219-42d1-8912-50ea214d6d8f",
   "metadata": {
    "tags": []
   },
   "outputs": [
    {
     "data": {
      "text/plain": [
       "array([[2., 0., 1., 0.],\n",
       "       [2., 0., 1., 1.],\n",
       "       [0., 0., 1., 0.],\n",
       "       [1., 2., 1., 0.],\n",
       "       [1., 1., 0., 0.],\n",
       "       [1., 1., 0., 1.],\n",
       "       [0., 1., 0., 1.],\n",
       "       [2., 2., 1., 0.],\n",
       "       [2., 1., 0., 0.],\n",
       "       [1., 2., 0., 0.],\n",
       "       [2., 2., 0., 1.],\n",
       "       [0., 2., 1., 1.],\n",
       "       [0., 0., 0., 0.],\n",
       "       [1., 2., 1., 1.]])"
      ]
     },
     "execution_count": 47,
     "metadata": {},
     "output_type": "execute_result"
    }
   ],
   "source": [
    "X"
   ]
  },
  {
   "cell_type": "code",
   "execution_count": 31,
   "id": "80037181-9819-4238-ba28-87ad282bdae9",
   "metadata": {
    "tags": []
   },
   "outputs": [
    {
     "data": {
      "text/plain": [
       "array([1, 1, 1, 1, 1, 0, 1, 0, 0, 1, 1, 0, 0, 0])"
      ]
     },
     "execution_count": 31,
     "metadata": {},
     "output_type": "execute_result"
    }
   ],
   "source": [
    "y = data['Oyinchilar'].values\n",
    "y"
   ]
  },
  {
   "cell_type": "markdown",
   "id": "ffd5d40c-ce9d-4705-9550-eb77aa183ae6",
   "metadata": {
    "tags": []
   },
   "source": [
    "class DecisionTreeClassifier:\n",
    "    def __init__(self, min_sample_split=2, max_depth = 2):\n",
    "        # Asosiy tugun\n",
    "        self.root = None\n",
    "        \n",
    "        # To'xtash shartlari\n",
    "        self.min_sample_split = min_sample_split\n",
    "        self.max_depth = max_depth\n",
    "        \n",
    "    def build_tree(self, dataset, curr_depth=0):\n",
    "        \n",
    "        X, Y = dataset[:,:-1], dataset[:, -1]\n",
    "        num_samples, num_features = np.shape(X)\n",
    "        \n",
    "        # To'xtash shartlari bajarilmaguncha bo'lish\n",
    "        if num_samples >= self.min_sample_split and curr_depth <= self.max_depth:\n",
    "            # Eng yaxshi bo'linishni topish\n",
    "            best_split = self.get_best_split(dataset, num_samples, num_features)\n",
    "            \n",
    "            # bolinishning info_gain musbatlikka tekshiryapmiz\n",
    "            if best_split[\"info_gain\"]>0:\n",
    "                # chap tomonini bo'linishlarini topamiz\n",
    "                left_subtree = self.build_tree(best_split[\"dataset_left\"], curr_depth+1)\n",
    "                \n",
    "                # ong tomonini bo'linishlarini topamiz\n",
    "                right_subtree = self.build_tree(best_split[\"dataset_right\"], curr_depth+1)\n",
    "                \n",
    "                # Daraxt tugunini qaytaramiz\n",
    "                return Node(best_split[\"feature_index\"], best_split[\"treshold\"], left_subtree, right_subtree, best_split[\"info_gain\"])\n",
    "            \n",
    "        # Agar bo'linish sharti to'g'ri kelmasa oxirgi bargni qaytaramiz\n",
    "        leaf_value = self.calculate_leaf_value(Y)\n",
    "        \n",
    "        # Bargni qaytaramiz\n",
    "        return Node(value=leaf_value)\n",
    "    \n",
    "    def get_best_split(self, dataset, num_samples, num_features):\n",
    "            \n",
    "        # Eng yaxshi bo'linishni saqlash uchun dict yaratamiz\n",
    "        best_split = dict()\n",
    "        max_info_gain = - float('inf')\n",
    "        \n",
    "        # Har bir feature ni korib chiqamiz\n",
    "        for feature_index in range(num_features):\n",
    "            feature_values = dataset[:, feature_index]\n",
    "            possible_treshold = np.unique(feature_values)\n",
    "            \n",
    "            # Datadagi eng yaxshi bo'linish shartini topamiz ya'ni chegarani\n",
    "            \n",
    "            for treshold in possible_treshold:\n",
    "                \n",
    "                # joriy chegara bo'yicha bo'lamiz                \n",
    "                dataset_left, dataset_right = self.split(dataset, feature_index, treshold)\n",
    "                \n",
    "                # Bo'lingan datasetni not null ga tekshiryapmiz\n",
    "                if len(dataset_left)>0 and len(dataset_right) > 0:\n",
    "                    y, left_y, right_y = dataset[:, -1], dataset_left[:, -1], dataset_right[:,-1]\n",
    "                    \n",
    "                    # info gain ni hisoblaymiz\n",
    "                    curr_info_gain = self.information_gain(y, left_y, right_y, \"gini\")\n",
    "                    \n",
    "                    # best_split dictni yangilaymiz\n",
    "                    if curr_info_gain > max_info_gain:\n",
    "                        best_split[\"feature_index\"] = feature_index\n",
    "                        best_split[\"treshold\"]  = treshold\n",
    "                        best_split[\"dataset_left\"] = dataset_left\n",
    "                        best_split[\"dataset_right\"] = dataset_right\n",
    "                        best_split[\"info_gain\"] = curr_info_gain\n",
    "                        max_info_gain = curr_info_gain\n",
    "        \n",
    "        return best_split    \n",
    "    \n",
    "    \n",
    "    def split(self, dataset, feature_index, treshold):\n",
    "        \"\"\"Datani chegara bo'yicha bo'lish\"\"\"\n",
    "        dataset_left = np.array([row for row in dataset if row[feature_index]<=treshold])\n",
    "        dataset_right = np.array([row for row in dataset if row[feature_index]<treshold])\n",
    "        \n",
    "        return dataset_left, dataset_right\n",
    "    \n",
    "    def information_gain(self, parent, l_child, r_child, mode = \"entropy\"):\n",
    "        \"\"\"Info gain ni hisoblash\"\"\"\n",
    "        \n",
    "        weight_l = len(l_child) / len(parent)\n",
    "        weight_r = len(r_child) / len(parent)\n",
    "        if mode == \"gini\":\n",
    "            gain = self.gini_index(parent) - (weight_l*self.gini_index(l_child) + weight_r*self.gini_index(r_child))\n",
    "        elif mode == \"entropy\":\n",
    "            gain = self.entropy(parent) - (weight_l * self.entropy(l_child) + weight_r * self.entropy(r_child))\n",
    "        else:\n",
    "            assert \"ValueError\"\n",
    "            \n",
    "        \n",
    "        return gain\n",
    "    \n",
    "    def entropy(self, y):\n",
    "        \"\"\"Entropy ni topish funksiyasi\"\"\"\n",
    "        \n",
    "        class_labels = np.unique(y)\n",
    "        entropy = 0\n",
    "        for cls in class_labels:\n",
    "            p_cls = len(y[y==cls]) / len(y)\n",
    "            entropy += - p_cls * np.log2(p_cls)\n",
    "        return entropy\n",
    "    \n",
    "    def gini_index(self, y):\n",
    "        \"\"\"Gini index ni topish funksiyasi\"\"\"\n",
    "        \n",
    "        class_labels = np.unique(y)        gini = 0\n",
    "        for cls in class_labels:\n",
    "            p_cls = len(y[y == cls]) / len(y)\n",
    "            gini += p_cls**2\n",
    "        return 1 - gini\n",
    "    \n",
    "    def calculate_leaf_value(self, y):\n",
    "        \"\"\"Barg tugunini hisoblash funksiyasi\"\"\"\n",
    "        \n",
    "        y_list = [i for i in y]\n",
    "        return max(y_list, key=y_list.count)\n",
    "    \n",
    "    def print_tree(self, tree=None, indent = \" \"):\n",
    "        \"\"\"Decision Tree ni chiqarish funksiyasi\"\"\"\n",
    "        \n",
    "        if not tree:\n",
    "            tree = self.root\n",
    "            \n",
    "        if tree.value is not None:\n",
    "            print(tree.value)\n",
    "        \n",
    "        else:\n",
    "            print(\"X_\" + str(tree.feature_index), \"<=\", tree.treshold, \"?\", tree.info_gain)\n",
    "            print(f\"{indent}left : \", end=\"\")\n",
    "            self.print_tree(tree.left, indent+indent)\n",
    "            print(f\"{indent}right : \" ,end=\"\")\n",
    "            self.print_tree(tree.right, indent=indent+indent)\n",
    "            \n",
    "    def fit(self, x, y):\n",
    "        \"\"\"Decision Tree ni oqitish funksiyasi\"\"\"\n",
    "        \n",
    "        dataset = np.concatenate((x, y), axis=1)\n",
    "        self.root = self.build_tree(dataset)\n",
    "        \n",
    "    def predict(self, x):\n",
    "        \"\"\"Predict funksiyasi\"\"\"\n",
    "        \n",
    "        preditions = [self.make_prediction(i, self.root) for i in x]\n",
    "        return preditions\n",
    "    \n",
    "    def make_prediction(self, x, tree):\n",
    "        \"\"\"Bitta ma'lumotni predict qilish funksiyasi\"\"\"\n",
    "        \n",
    "        if tree.value!=None: return tree.value\n",
    "        feature_val = x[tree.feature_index]\n",
    "        if feature_val <= tree.treshold:\n",
    "            return self.make_prediction(x, tree.left)\n",
    "        else:\n",
    "            return self.make_prediction(x, tree.right)      "
   ]
  },
  {
   "cell_type": "code",
   "execution_count": 119,
   "id": "c96e0eb9-8b38-419b-ae42-64d5ad15303f",
   "metadata": {
    "tags": []
   },
   "outputs": [],
   "source": [
    "class Node():\n",
    "    def __init__(self, feature_index=None, threshold=None, left=None, right=None, info_gain=None, value=None):\n",
    "        ''' constructor ''' \n",
    "        \n",
    "        # for decision node\n",
    "        self.feature_index = feature_index\n",
    "        self.threshold = threshold\n",
    "        self.left = left\n",
    "        self.right = right\n",
    "        self.info_gain = info_gain\n",
    "        \n",
    "        # Oxirgi chiqish qiymati uchun\n",
    "        self.value = value"
   ]
  },
  {
   "cell_type": "code",
   "execution_count": 93,
   "id": "a512e8fe-5d03-438f-9e58-9b9eecc4dbb8",
   "metadata": {
    "tags": []
   },
   "outputs": [],
   "source": [
    "class CustomDecisionTreeClassifier():\n",
    "    def __init__(self, min_samples_split=2, max_depth=5):\n",
    "        ''' constructor '''\n",
    "        \n",
    "        # Bosh tugunni istalizatsiya qilish\n",
    "        self.root = None\n",
    "        \n",
    "        # Bo'linish chegarasi bilan maksimal chuqurlik\n",
    "        self.min_samples_split = min_samples_split\n",
    "        self.max_depth = max_depth\n",
    "        \n",
    "    def build_tree(self, dataset, curr_depth=0):\n",
    "        ''' Daraxtni qurish uchun rekursiv funksiya''' \n",
    "        \n",
    "        X, Y = dataset[:,:-1], dataset[:,-1]\n",
    "        num_samples, num_features = np.shape(X)\n",
    "        \n",
    "        # To'tatish shartlari bajarilmaguncha bo'linadi\n",
    "        if num_samples>=self.min_samples_split and curr_depth<=self.max_depth:\n",
    "            # Eng yaxshi bo'linishni topish funksiyasi\n",
    "            best_split = self.get_best_split(dataset, num_samples, num_features)\n",
    "            # Info gain ni musbatlikka tekshiryapmiz\n",
    "            if best_split[\"info_gain\"]>0:\n",
    "                # chapga bo'linish\n",
    "                left_subtree = self.build_tree(best_split[\"dataset_left\"], curr_depth+1)\n",
    "                # onga bo'linish\n",
    "                right_subtree = self.build_tree(best_split[\"dataset_right\"], curr_depth+1)\n",
    "                # Daraxt tugunlarini qaytaradi\n",
    "                return Node(best_split[\"feature_index\"], best_split[\"threshold\"], \n",
    "                            left_subtree, right_subtree, best_split[\"info_gain\"])\n",
    "        \n",
    "        # Chiquvchi qiymatnin hisoblash funksiyasi\n",
    "        leaf_value = self.calculate_leaf_value(Y)\n",
    "        # Chiquvchi qiymatni qaytaradi\n",
    "        return Node(value=leaf_value)\n",
    "    \n",
    "    def get_best_split(self, dataset, num_samples, num_features):\n",
    "        ''' Eng yaxshi bo'linishni topish funksiyasi '''\n",
    "        \n",
    "        # Bo'linishni saqlash uchun fuksiya\n",
    "        best_split = {}\n",
    "        max_info_gain = -float(\"inf\")\n",
    "        \n",
    "        # Barcha feature ni tekshirish\n",
    "        for feature_index in range(num_features):\n",
    "            feature_values = dataset[:, feature_index]\n",
    "            possible_thresholds = np.unique(feature_values)\n",
    "            print (possible_thresholds)\n",
    "            # Eng yaxshi bo'linishni topish\n",
    "            for threshold in possible_thresholds:\n",
    "                # Chegara bo'yicha bo'linishlarni olish\n",
    "                dataset_left, dataset_right = self.split(dataset, feature_index, threshold)\n",
    "                # Bo'lingan datalarni tekshirish\n",
    "                if len(dataset_left)>0 and len(dataset_right)>0:\n",
    "                    y, left_y, right_y = dataset[:, -1], dataset_left[:, -1], dataset_right[:, -1]\n",
    "                    # compute information gain\n",
    "                    curr_info_gain = self.information_gain(y, left_y, right_y, \"gini\")\n",
    "                    # update the best split if needed\n",
    "                    if curr_info_gain>max_info_gain:\n",
    "                        best_split[\"feature_index\"] = feature_index\n",
    "                        best_split[\"threshold\"] = threshold\n",
    "                        best_split[\"dataset_left\"] = dataset_left\n",
    "                        best_split[\"dataset_right\"] = dataset_right\n",
    "                        best_split[\"info_gain\"] = curr_info_gain\n",
    "                        max_info_gain = curr_info_gain\n",
    "                        \n",
    "        # return best split\n",
    "        return best_split\n",
    "    \n",
    "    def split(self, dataset, feature_index, threshold):\n",
    "        ''' function to split the data '''\n",
    "        \n",
    "        dataset_left = np.array([row for row in dataset if row[feature_index]<=threshold])\n",
    "        dataset_right = np.array([row for row in dataset if row[feature_index]>threshold])\n",
    "        return dataset_left, dataset_right\n",
    "    \n",
    "    def information_gain(self, parent, l_child, r_child, mode=\"entropy\"):\n",
    "        ''' function to compute information gain '''\n",
    "        \n",
    "        weight_l = len(l_child) / len(parent)\n",
    "        weight_r = len(r_child) / len(parent)\n",
    "        if mode==\"gini\":\n",
    "            gain = self.gini_index(parent) - (weight_l*self.gini_index(l_child) + weight_r*self.gini_index(r_child))\n",
    "        else:\n",
    "            gain = self.entropy(parent) - (weight_l*self.entropy(l_child) + weight_r*self.entropy(r_child))\n",
    "        return gain\n",
    "    \n",
    "    def entropy(self, y):\n",
    "        ''' function to compute entropy '''\n",
    "        \n",
    "        class_labels = np.unique(y)\n",
    "        entropy = 0\n",
    "        for cls in class_labels:\n",
    "            p_cls = len(y[y == cls]) / len(y)\n",
    "            entropy += -p_cls * np.log2(p_cls)\n",
    "        return entropy\n",
    "    \n",
    "    def gini_index(self, y):\n",
    "        ''' function to compute gini index '''\n",
    "        \n",
    "        class_labels = np.unique(y)\n",
    "        gini = 0\n",
    "        for cls in class_labels:\n",
    "            p_cls = len(y[y == cls]) / len(y)\n",
    "            gini += p_cls**2\n",
    "        return 1 - gini\n",
    "        \n",
    "    def calculate_leaf_value(self, Y):\n",
    "        ''' function to compute leaf node '''\n",
    "        \n",
    "        Y = list(Y)\n",
    "        return max(Y, key=Y.count)\n",
    "    \n",
    "    def print_tree(self, tree=None, indent=\" \"):\n",
    "        ''' function to print the tree '''\n",
    "        \n",
    "        if not tree:\n",
    "            tree = self.root\n",
    "\n",
    "        if tree.value is not None:\n",
    "            print(tree.value)\n",
    "\n",
    "        else:\n",
    "            print(\"X_\"+str(tree.feature_index), \"<=\", tree.threshold, \"?\", tree.info_gain)\n",
    "            print(\"%sleft:\" % (indent), end=\"\")\n",
    "            self.print_tree(tree.left, indent + indent)\n",
    "            print(\"%sright:\" % (indent), end=\"\")\n",
    "            self.print_tree(tree.right, indent + indent)\n",
    "    \n",
    "    def fit(self, X, Y):\n",
    "        ''' function to train the tree '''\n",
    "        \n",
    "        dataset = np.concatenate((X, Y), axis=1)\n",
    "        self.root = self.build_tree(dataset)\n",
    "    \n",
    "    def predict(self, X):\n",
    "        ''' function to predict new dataset '''\n",
    "        \n",
    "        preditions = [self.make_prediction(x, self.root) for x in X]\n",
    "        return preditions\n",
    "    \n",
    "    def make_prediction(self, x, tree):\n",
    "        ''' function to predict a single data point '''\n",
    "        \n",
    "        if tree.value!=None: return tree.value\n",
    "        feature_val = x[tree.feature_index]\n",
    "        if feature_val<=tree.threshold:\n",
    "            return self.make_prediction(x, tree.left)\n",
    "        else:\n",
    "            return self.make_prediction(x, tree.right)"
   ]
  },
  {
   "cell_type": "code",
   "execution_count": 94,
   "id": "97702a5b-1657-4ece-a65a-b0068d08360e",
   "metadata": {
    "tags": []
   },
   "outputs": [],
   "source": [
    "my_tree = CustomDecisionTreeClassifier()"
   ]
  },
  {
   "cell_type": "code",
   "execution_count": 95,
   "id": "c7172c10-e562-4fa8-b8d8-7008b6f258dd",
   "metadata": {
    "tags": []
   },
   "outputs": [
    {
     "data": {
      "text/plain": [
       "array([[2., 0., 1., 0.],\n",
       "       [2., 0., 1., 1.],\n",
       "       [0., 0., 1., 0.],\n",
       "       [1., 2., 1., 0.],\n",
       "       [1., 1., 0., 0.],\n",
       "       [1., 1., 0., 1.],\n",
       "       [0., 1., 0., 1.],\n",
       "       [2., 2., 1., 0.],\n",
       "       [2., 1., 0., 0.],\n",
       "       [1., 2., 0., 0.],\n",
       "       [2., 2., 0., 1.],\n",
       "       [0., 2., 1., 1.],\n",
       "       [0., 0., 0., 0.],\n",
       "       [1., 2., 1., 1.]])"
      ]
     },
     "execution_count": 95,
     "metadata": {},
     "output_type": "execute_result"
    }
   ],
   "source": [
    "X"
   ]
  },
  {
   "cell_type": "code",
   "execution_count": 96,
   "id": "c457453e-1b70-4da4-a7da-35674810a520",
   "metadata": {
    "tags": []
   },
   "outputs": [
    {
     "data": {
      "text/plain": [
       "array([1, 1, 1, 1, 1, 0, 1, 0, 0, 1, 1, 0, 0, 0])"
      ]
     },
     "execution_count": 96,
     "metadata": {},
     "output_type": "execute_result"
    }
   ],
   "source": [
    "y"
   ]
  },
  {
   "cell_type": "code",
   "execution_count": 97,
   "id": "58d94497-588e-4be0-8b00-cb05fcaaa06d",
   "metadata": {
    "tags": []
   },
   "outputs": [
    {
     "data": {
      "text/plain": [
       "array([[1],\n",
       "       [1],\n",
       "       [1],\n",
       "       [1],\n",
       "       [1],\n",
       "       [0],\n",
       "       [1],\n",
       "       [0],\n",
       "       [0],\n",
       "       [1],\n",
       "       [1],\n",
       "       [0],\n",
       "       [0],\n",
       "       [0]])"
      ]
     },
     "execution_count": 97,
     "metadata": {},
     "output_type": "execute_result"
    }
   ],
   "source": [
    "Y = data.iloc[:,-1].values.reshape(-1,1)\n",
    "Y"
   ]
  },
  {
   "cell_type": "code",
   "execution_count": 98,
   "id": "7e5a767b-8c28-4543-aa3e-213f1e92e4be",
   "metadata": {
    "tags": []
   },
   "outputs": [],
   "source": [
    "my_tree.fit(X, Y)"
   ]
  },
  {
   "cell_type": "code",
   "execution_count": 99,
   "id": "2ec166de-1be5-4bda-8464-ef19f2000c9c",
   "metadata": {
    "tags": []
   },
   "outputs": [
    {
     "data": {
      "text/html": [
       "<div>\n",
       "<style scoped>\n",
       "    .dataframe tbody tr th:only-of-type {\n",
       "        vertical-align: middle;\n",
       "    }\n",
       "\n",
       "    .dataframe tbody tr th {\n",
       "        vertical-align: top;\n",
       "    }\n",
       "\n",
       "    .dataframe thead th {\n",
       "        text-align: right;\n",
       "    }\n",
       "</style>\n",
       "<table border=\"1\" class=\"dataframe\">\n",
       "  <thead>\n",
       "    <tr style=\"text-align: right;\">\n",
       "      <th></th>\n",
       "      <th>Ob-Havo</th>\n",
       "      <th>Temp</th>\n",
       "      <th>Namlik</th>\n",
       "      <th>Shamol</th>\n",
       "      <th>Oyinchilar</th>\n",
       "    </tr>\n",
       "  </thead>\n",
       "  <tbody>\n",
       "    <tr>\n",
       "      <th>0</th>\n",
       "      <td>Yomg'ir</td>\n",
       "      <td>Issiq</td>\n",
       "      <td>Yuqori</td>\n",
       "      <td>False</td>\n",
       "      <td>1</td>\n",
       "    </tr>\n",
       "    <tr>\n",
       "      <th>1</th>\n",
       "      <td>Yomg'ir</td>\n",
       "      <td>Issiq</td>\n",
       "      <td>Yuqori</td>\n",
       "      <td>True</td>\n",
       "      <td>1</td>\n",
       "    </tr>\n",
       "    <tr>\n",
       "      <th>2</th>\n",
       "      <td>Bulutli</td>\n",
       "      <td>Issiq</td>\n",
       "      <td>Yuqori</td>\n",
       "      <td>False</td>\n",
       "      <td>1</td>\n",
       "    </tr>\n",
       "    <tr>\n",
       "      <th>3</th>\n",
       "      <td>Quyoshli</td>\n",
       "      <td>Yaxshi</td>\n",
       "      <td>Yuqori</td>\n",
       "      <td>False</td>\n",
       "      <td>1</td>\n",
       "    </tr>\n",
       "    <tr>\n",
       "      <th>4</th>\n",
       "      <td>Quyoshli</td>\n",
       "      <td>Salqin</td>\n",
       "      <td>Normal</td>\n",
       "      <td>False</td>\n",
       "      <td>1</td>\n",
       "    </tr>\n",
       "    <tr>\n",
       "      <th>5</th>\n",
       "      <td>Quyoshli</td>\n",
       "      <td>Salqin</td>\n",
       "      <td>Normal</td>\n",
       "      <td>True</td>\n",
       "      <td>0</td>\n",
       "    </tr>\n",
       "    <tr>\n",
       "      <th>6</th>\n",
       "      <td>Bulutli</td>\n",
       "      <td>Salqin</td>\n",
       "      <td>Normal</td>\n",
       "      <td>True</td>\n",
       "      <td>1</td>\n",
       "    </tr>\n",
       "    <tr>\n",
       "      <th>7</th>\n",
       "      <td>Yomg'ir</td>\n",
       "      <td>Yaxshi</td>\n",
       "      <td>Yuqori</td>\n",
       "      <td>False</td>\n",
       "      <td>0</td>\n",
       "    </tr>\n",
       "    <tr>\n",
       "      <th>8</th>\n",
       "      <td>Yomg'ir</td>\n",
       "      <td>Salqin</td>\n",
       "      <td>Normal</td>\n",
       "      <td>False</td>\n",
       "      <td>0</td>\n",
       "    </tr>\n",
       "    <tr>\n",
       "      <th>9</th>\n",
       "      <td>Quyoshli</td>\n",
       "      <td>Yaxshi</td>\n",
       "      <td>Normal</td>\n",
       "      <td>False</td>\n",
       "      <td>1</td>\n",
       "    </tr>\n",
       "    <tr>\n",
       "      <th>10</th>\n",
       "      <td>Yomg'ir</td>\n",
       "      <td>Yaxshi</td>\n",
       "      <td>Normal</td>\n",
       "      <td>True</td>\n",
       "      <td>1</td>\n",
       "    </tr>\n",
       "    <tr>\n",
       "      <th>11</th>\n",
       "      <td>Bulutli</td>\n",
       "      <td>Yaxshi</td>\n",
       "      <td>Yuqori</td>\n",
       "      <td>True</td>\n",
       "      <td>0</td>\n",
       "    </tr>\n",
       "    <tr>\n",
       "      <th>12</th>\n",
       "      <td>Bulutli</td>\n",
       "      <td>Issiq</td>\n",
       "      <td>Normal</td>\n",
       "      <td>False</td>\n",
       "      <td>0</td>\n",
       "    </tr>\n",
       "    <tr>\n",
       "      <th>13</th>\n",
       "      <td>Quyoshli</td>\n",
       "      <td>Yaxshi</td>\n",
       "      <td>Yuqori</td>\n",
       "      <td>True</td>\n",
       "      <td>0</td>\n",
       "    </tr>\n",
       "  </tbody>\n",
       "</table>\n",
       "</div>"
      ],
      "text/plain": [
       "     Ob-Havo    Temp  Namlik  Shamol  Oyinchilar\n",
       "0    Yomg'ir   Issiq  Yuqori   False           1\n",
       "1    Yomg'ir   Issiq  Yuqori    True           1\n",
       "2    Bulutli   Issiq  Yuqori   False           1\n",
       "3   Quyoshli  Yaxshi  Yuqori   False           1\n",
       "4   Quyoshli  Salqin  Normal   False           1\n",
       "5   Quyoshli  Salqin  Normal    True           0\n",
       "6    Bulutli  Salqin  Normal    True           1\n",
       "7    Yomg'ir  Yaxshi  Yuqori   False           0\n",
       "8    Yomg'ir  Salqin  Normal   False           0\n",
       "9   Quyoshli  Yaxshi  Normal   False           1\n",
       "10   Yomg'ir  Yaxshi  Normal    True           1\n",
       "11   Bulutli  Yaxshi  Yuqori    True           0\n",
       "12   Bulutli   Issiq  Normal   False           0\n",
       "13  Quyoshli  Yaxshi  Yuqori    True           0"
      ]
     },
     "execution_count": 99,
     "metadata": {},
     "output_type": "execute_result"
    }
   ],
   "source": [
    "data"
   ]
  },
  {
   "cell_type": "code",
   "execution_count": 100,
   "id": "190bbee0-b1b1-4c78-904c-ddfa613cc756",
   "metadata": {
    "tags": []
   },
   "outputs": [
    {
     "name": "stdout",
     "output_type": "stream",
     "text": [
      "X_1 <= 0.0 ? 0.025510204081632737\n",
      " left:X_2 <= 0.0 ? 0.375\n",
      "  left:0.0\n",
      "  right:1.0\n",
      " right:X_2 <= 0.0 ? 0.08333333333333331\n",
      "  left:X_1 <= 1.0 ? 0.1111111111111111\n",
      "    left:X_0 <= 0.0 ? 0.16666666666666669\n",
      "        left:1.0\n",
      "        right:X_0 <= 1.0 ? 0.1111111111111111\n",
      "                left:X_3 <= 0.0 ? 0.5\n",
      "                                left:1.0\n",
      "                                right:0.0\n",
      "                right:0.0\n",
      "    right:1.0\n",
      "  right:X_3 <= 0.0 ? 0.125\n",
      "    left:X_0 <= 1.0 ? 0.5\n",
      "        left:1.0\n",
      "        right:0.0\n",
      "    right:0.0\n"
     ]
    }
   ],
   "source": [
    "my_tree.print_tree()"
   ]
  },
  {
   "cell_type": "code",
   "execution_count": 101,
   "id": "3950e793-5221-4c0e-99ed-9f13f941f3b0",
   "metadata": {
    "tags": []
   },
   "outputs": [],
   "source": [
    "sk_tree = DecisionTreeClassifier(max_depth=5)"
   ]
  },
  {
   "cell_type": "code",
   "execution_count": 102,
   "id": "3c9fcc4a-9a58-4a67-9ab8-42c7cb55ba76",
   "metadata": {
    "tags": []
   },
   "outputs": [
    {
     "data": {
      "text/html": [
       "<style>#sk-container-id-2 {color: black;background-color: white;}#sk-container-id-2 pre{padding: 0;}#sk-container-id-2 div.sk-toggleable {background-color: white;}#sk-container-id-2 label.sk-toggleable__label {cursor: pointer;display: block;width: 100%;margin-bottom: 0;padding: 0.3em;box-sizing: border-box;text-align: center;}#sk-container-id-2 label.sk-toggleable__label-arrow:before {content: \"▸\";float: left;margin-right: 0.25em;color: #696969;}#sk-container-id-2 label.sk-toggleable__label-arrow:hover:before {color: black;}#sk-container-id-2 div.sk-estimator:hover label.sk-toggleable__label-arrow:before {color: black;}#sk-container-id-2 div.sk-toggleable__content {max-height: 0;max-width: 0;overflow: hidden;text-align: left;background-color: #f0f8ff;}#sk-container-id-2 div.sk-toggleable__content pre {margin: 0.2em;color: black;border-radius: 0.25em;background-color: #f0f8ff;}#sk-container-id-2 input.sk-toggleable__control:checked~div.sk-toggleable__content {max-height: 200px;max-width: 100%;overflow: auto;}#sk-container-id-2 input.sk-toggleable__control:checked~label.sk-toggleable__label-arrow:before {content: \"▾\";}#sk-container-id-2 div.sk-estimator input.sk-toggleable__control:checked~label.sk-toggleable__label {background-color: #d4ebff;}#sk-container-id-2 div.sk-label input.sk-toggleable__control:checked~label.sk-toggleable__label {background-color: #d4ebff;}#sk-container-id-2 input.sk-hidden--visually {border: 0;clip: rect(1px 1px 1px 1px);clip: rect(1px, 1px, 1px, 1px);height: 1px;margin: -1px;overflow: hidden;padding: 0;position: absolute;width: 1px;}#sk-container-id-2 div.sk-estimator {font-family: monospace;background-color: #f0f8ff;border: 1px dotted black;border-radius: 0.25em;box-sizing: border-box;margin-bottom: 0.5em;}#sk-container-id-2 div.sk-estimator:hover {background-color: #d4ebff;}#sk-container-id-2 div.sk-parallel-item::after {content: \"\";width: 100%;border-bottom: 1px solid gray;flex-grow: 1;}#sk-container-id-2 div.sk-label:hover label.sk-toggleable__label {background-color: #d4ebff;}#sk-container-id-2 div.sk-serial::before {content: \"\";position: absolute;border-left: 1px solid gray;box-sizing: border-box;top: 0;bottom: 0;left: 50%;z-index: 0;}#sk-container-id-2 div.sk-serial {display: flex;flex-direction: column;align-items: center;background-color: white;padding-right: 0.2em;padding-left: 0.2em;position: relative;}#sk-container-id-2 div.sk-item {position: relative;z-index: 1;}#sk-container-id-2 div.sk-parallel {display: flex;align-items: stretch;justify-content: center;background-color: white;position: relative;}#sk-container-id-2 div.sk-item::before, #sk-container-id-2 div.sk-parallel-item::before {content: \"\";position: absolute;border-left: 1px solid gray;box-sizing: border-box;top: 0;bottom: 0;left: 50%;z-index: -1;}#sk-container-id-2 div.sk-parallel-item {display: flex;flex-direction: column;z-index: 1;position: relative;background-color: white;}#sk-container-id-2 div.sk-parallel-item:first-child::after {align-self: flex-end;width: 50%;}#sk-container-id-2 div.sk-parallel-item:last-child::after {align-self: flex-start;width: 50%;}#sk-container-id-2 div.sk-parallel-item:only-child::after {width: 0;}#sk-container-id-2 div.sk-dashed-wrapped {border: 1px dashed gray;margin: 0 0.4em 0.5em 0.4em;box-sizing: border-box;padding-bottom: 0.4em;background-color: white;}#sk-container-id-2 div.sk-label label {font-family: monospace;font-weight: bold;display: inline-block;line-height: 1.2em;}#sk-container-id-2 div.sk-label-container {text-align: center;}#sk-container-id-2 div.sk-container {/* jupyter's `normalize.less` sets `[hidden] { display: none; }` but bootstrap.min.css set `[hidden] { display: none !important; }` so we also need the `!important` here to be able to override the default hidden behavior on the sphinx rendered scikit-learn.org. See: https://github.com/scikit-learn/scikit-learn/issues/21755 */display: inline-block !important;position: relative;}#sk-container-id-2 div.sk-text-repr-fallback {display: none;}</style><div id=\"sk-container-id-2\" class=\"sk-top-container\"><div class=\"sk-text-repr-fallback\"><pre>DecisionTreeClassifier(max_depth=5)</pre><b>In a Jupyter environment, please rerun this cell to show the HTML representation or trust the notebook. <br />On GitHub, the HTML representation is unable to render, please try loading this page with nbviewer.org.</b></div><div class=\"sk-container\" hidden><div class=\"sk-item\"><div class=\"sk-estimator sk-toggleable\"><input class=\"sk-toggleable__control sk-hidden--visually\" id=\"sk-estimator-id-2\" type=\"checkbox\" checked><label for=\"sk-estimator-id-2\" class=\"sk-toggleable__label sk-toggleable__label-arrow\">DecisionTreeClassifier</label><div class=\"sk-toggleable__content\"><pre>DecisionTreeClassifier(max_depth=5)</pre></div></div></div></div></div>"
      ],
      "text/plain": [
       "DecisionTreeClassifier(max_depth=5)"
      ]
     },
     "execution_count": 102,
     "metadata": {},
     "output_type": "execute_result"
    }
   ],
   "source": [
    "sk_tree.fit(X, Y)"
   ]
  },
  {
   "cell_type": "code",
   "execution_count": 118,
   "id": "c88e3077-e81e-4084-b22a-f1dd45eb51b8",
   "metadata": {
    "tags": []
   },
   "outputs": [
    {
     "data": {
      "text/plain": [
       "array([0])"
      ]
     },
     "execution_count": 118,
     "metadata": {},
     "output_type": "execute_result"
    }
   ],
   "source": [
    "sk_tree.predict([[2., 0., 0., 0.]])"
   ]
  },
  {
   "cell_type": "code",
   "execution_count": 116,
   "id": "c07b0b0d-c960-4441-90ec-2e0465fcf057",
   "metadata": {
    "tags": []
   },
   "outputs": [
    {
     "data": {
      "text/plain": [
       "[0.0]"
      ]
     },
     "execution_count": 116,
     "metadata": {},
     "output_type": "execute_result"
    }
   ],
   "source": [
    "my_tree.predict([[0., 0., 0., 0.]])"
   ]
  },
  {
   "cell_type": "code",
   "execution_count": 105,
   "id": "0ed99116-4c6b-4e7c-8a06-4d0c276ae6f7",
   "metadata": {
    "tags": []
   },
   "outputs": [
    {
     "data": {
      "image/png": "[encoded data removed]",
      "text/plain": [
       "<Figure size 2000x2000 with 1 Axes>"
      ]
     },
     "metadata": {},
     "output_type": "display_data"
    }
   ],
   "source": [
    "import matplotlib.pyplot as plt\n",
    "plt.figure(figsize=(20,20))\n",
    "plot_tree(sk_tree,filled=True,fontsize=10,feature_names=data.columns)\n",
    "plt.show()"
   ]
  },
  {
   "cell_type": "code",
   "execution_count": null,
   "id": "3a7ac040-c4f4-496d-9204-d9af46b4e1da",
   "metadata": {},
   "outputs": [],
   "source": []
  }
 ],
 "metadata": {
  "kernelspec": {
   "display_name": "ml_env",
   "language": "python",
   "name": "ml_env"
  },
  "language_info": {
   "codemirror_mode": {
    "name": "ipython",
    "version": 3
   },
   "file_extension": ".py",
   "mimetype": "text/x-python",
   "name": "python",
   "nbconvert_exporter": "python",
   "pygments_lexer": "ipython3",
   "version": "3.11.2"
  }
 },
 "nbformat": 4,
 "nbformat_minor": 5
}
