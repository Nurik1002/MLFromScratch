{
 "cells": [
  {
   "cell_type": "code",
   "execution_count": 116,
   "id": "01861e1e-28b3-4c5b-a6c8-490c981db74b",
   "metadata": {
    "tags": []
   },
   "outputs": [],
   "source": [
    "# Random Forest qurish uchun DecisionTreeRegressor va DecisionTreeClassifier \n",
    "from sklearn.tree import DecisionTreeRegressor,DecisionTreeClassifier \n",
    "from sklearn.ensemble import RandomForestRegressor, RandomForestClassifier\n",
    "from collections import Counter \n",
    "import numpy as np  # Matritsa va massivlar bilan ishlovchi modul\n",
    "import pandas as pd # Ma'lumotlar bilan ishlovchi modul\n"
   ]
  },
  {
   "cell_type": "code",
   "execution_count": 4,
   "id": "1210d33a-5b9f-4711-aa70-f2cb0d8948d9",
   "metadata": {
    "tags": []
   },
   "outputs": [],
   "source": [
    "from sklearn import datasets\n",
    "from sklearn.model_selection import train_test_split"
   ]
  },
  {
   "cell_type": "code",
   "execution_count": 100,
   "id": "d1395fe2-7167-4d00-88c2-a0d3ad88d98e",
   "metadata": {
    "tags": []
   },
   "outputs": [],
   "source": [
    "class CustomRandomForestRegressor:\n",
    "    '''\n",
    "    Random Forest algoritmi 0 dam\n",
    "    '''\n",
    "    def __init__(self, num_trees=25, min_samples_split=2, max_depth=5):\n",
    "        \"\"\"\n",
    "        Konstruktor\n",
    "        \"\"\"\n",
    "        self.num_trees = num_trees\n",
    "        self.min_samples_split = min_samples_split\n",
    "        self.max_depth = max_depth\n",
    "        # Decision Tree larni saqlash uchun list\n",
    "        self.decision_trees = []\n",
    "        \n",
    "    @staticmethod\n",
    "    def _sample(X, y):\n",
    "        '''\n",
    "        Ma'lumotlarni randmo tanlovchi funksiya\n",
    "        '''\n",
    "        n_rows, n_cols = X.shape\n",
    "        #\n",
    "        samples = np.random.choice(a=n_rows, size=n_rows, replace=True)\n",
    "        return X[samples], y[samples]\n",
    "        \n",
    "    def fit(self, X, y):\n",
    "        '''\n",
    "        Random Forestni train qilish funksiyasi\n",
    "        \n",
    "        :param X: np.array, atributlari(features)\n",
    "        :param y: np.array, klasslari(target)\n",
    "        :return: None\n",
    "        '''\n",
    "\n",
    "        if len(self.decision_trees) > 0:\n",
    "            self.decision_trees = []\n",
    "            \n",
    "        # Random Forestning Decision Tree (daraxtlarini qurish)\n",
    "        num_built = 0\n",
    "        while num_built < self.num_trees:\n",
    "            try:\n",
    "                clf = DecisionTreeRegressor(\n",
    "                    min_samples_split=self.min_samples_split,\n",
    "                    max_depth=self.max_depth\n",
    "                )\n",
    "                # Random ma'lumotlarni olish\n",
    "                _X, _y = self._sample(X, y)\n",
    "                # Decision Tree larni oqitish \n",
    "                clf.fit(_X, _y)\n",
    "                # Oqitilgan Decision Tree lani listga saqlash\n",
    "                self.decision_trees.append(clf)\n",
    "                num_built += 1\n",
    "            except Exception as e:\n",
    "                continue\n",
    "    \n",
    "    def predict(self, X):\n",
    "        '''\n",
    "        Yangi ma'lumotni bashorat qilish uchun predict fuksiyasi\n",
    "        \n",
    "        :param X: np.array, yangi ma'lumot predict uchun\n",
    "        :return: class\n",
    "        '''\n",
    "        # Har bir Decision Tree ni predict qilgan qiymatlarini olyapmiz va listga yig'yapmiz\n",
    "        y = []\n",
    "        \n",
    "        for x in X:\n",
    "            y_x = []\n",
    "            for tree in self.decision_trees:\n",
    "                y_x.append(tree.predict([x]))\n",
    "            y.append(np.array(y_x).mean())\n",
    "        \n",
    "        return np.array(y)"
   ]
  }
 ],
 "metadata": {
  "kernelspec": {
   "display_name": "ml_env",
   "language": "python",
   "name": "ml_env"
  },
  "language_info": {
   "codemirror_mode": {
    "name": "ipython",
    "version": 3
   },
   "file_extension": ".py",
   "mimetype": "text/x-python",
   "name": "python",
   "nbconvert_exporter": "python",
   "pygments_lexer": "ipython3",
   "version": "3.11.2"
  }
 },
 "nbformat": 4,
 "nbformat_minor": 5
}
