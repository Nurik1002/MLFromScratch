{
 "cells": [
  {
   "cell_type": "markdown",
   "id": "a2f4206a-6cb7-442f-923b-4574ff81b716",
   "metadata": {},
   "source": [
    "# K-Nearest Neighbors Algorithm"
   ]
  },
  {
   "cell_type": "markdown",
   "id": "d3c04eb0-8f6f-4940-95bc-d130d78299d7",
   "metadata": {},
   "source": [
    "# KNN Algorithm\n",
    "\n",
    "* Initialize K to your chosen number of neighbors\n",
    "* 3. For each example in the data\n",
    "* - 3.1 Calculate the distance between the query example and the current example from the data.\n",
    "* - 3.2 Add the distance and the index of the example to an ordered collection\n",
    "* 4. Sort the ordered collection of distances and indices from smallest to largest (in ascending order) by the distances\n",
    "* 5. Pick the first K entries from the sorted collection\n",
    "* 6. Get the labels of the selected K entries\n",
    "* 7. If regression, return the mean of the K labels\n",
    "* 8. If classification, return the mode of the K labels"
   ]
  },
  {
   "cell_type": "markdown",
   "id": "2f871255-adf0-4218-81b4-ad8e4b792de3",
   "metadata": {},
   "source": [
    "# KNN ning ijobiy va salbiy tomonlari\n",
    "**`Ijobiy tomonlari`**\n",
    "* Bu tushunish va talqin qilish uchun juda oddiy algoritm.\n",
    "* Bu chiziqli bo'lmagan ma'lumotlar uchun juda foydali, chunki bu algoritmda ma'lumotlar haqida hech qanday taxmin yo'q.\n",
    "* Bu ko'p qirrali algoritm, chunki biz undan tasniflash va regressiya uchun foydalanishimiz mumkin.\n",
    "* U nisbatan yuqori aniqlikka ega, ammo KNNga qaraganda ancha yaxshi nazorat qilinadigan o'rganish modellari mavjud.\n",
    "\n",
    "**`Kamchiliklari`**\n",
    "* Bu hisoblash uchun biroz qimmat algoritm, chunki u barcha o'quv ma'lumotlarini saqlaydi.\n",
    "* Boshqa nazorat qilinadigan o'rganish algoritmlariga qaraganda yuqori xotirani saqlash talab qilinadi.\n",
    "* Katta N bo'lsa bashorat sekin.\n",
    "* U ma'lumotlar ko'lamiga, shuningdek, ahamiyatsiz xususiyatlarga juda sezgir."
   ]
  },
  {
   "cell_type": "code",
   "execution_count": 6,
   "id": "e0e18b6f-099f-4e59-81d8-8c1baa68aa96",
   "metadata": {
    "tags": []
   },
   "outputs": [],
   "source": [
    "import numpy as np\n",
    "from collections import Counter"
   ]
  },
  {
   "cell_type": "code",
   "execution_count": 7,
   "id": "5e23ce7c-3207-4865-a80d-1a79e45bac00",
   "metadata": {
    "tags": []
   },
   "outputs": [],
   "source": [
    "def eucliden_distanxe(x1,x2):\n",
    "    return np.sqrt(np.sum((x1-x2)**2))"
   ]
  },
  {
   "cell_type": "code",
   "execution_count": 8,
   "id": "9bcc8936-be90-4bb2-9b54-065a630e3928",
   "metadata": {
    "tags": []
   },
   "outputs": [],
   "source": [
    "class KNN:\n",
    "    def __init__(self, k = 3):\n",
    "        self.k = k\n",
    "        \n",
    "    \n",
    "    def fit(self, X, y):\n",
    "        self.X = X\n",
    "        self.y = y\n",
    "        \n",
    "    def predict(self, X, y):\n",
    "        predicted_labels = [self._predict(x) for x in X]\n",
    "        return np.array(predicted_labels)\n",
    "    \n",
    "    def _predict(self,x):\n",
    "        \n",
    "        distances = [eucliden_distanxe(x, x_train) for x_train in self.X]\n",
    "        \n",
    "        k_index = np.argsort(distances)[:self.k]\n",
    "        k_nearest_label = [self.y[i] for i in k_index]\n",
    "        \n",
    "        most_common = Counter(k_nearest_label).most_common(1)\n",
    "        return most_common[0][0]       "
   ]
  }
 ],
 "metadata": {
  "kernelspec": {
   "display_name": "ml_env",
   "language": "python",
   "name": "ml_env"
  },
  "language_info": {
   "codemirror_mode": {
    "name": "ipython",
    "version": 3
   },
   "file_extension": ".py",
   "mimetype": "text/x-python",
   "name": "python",
   "nbconvert_exporter": "python",
   "pygments_lexer": "ipython3",
   "version": "3.11.2"
  }
 },
 "nbformat": 4,
 "nbformat_minor": 5
}
